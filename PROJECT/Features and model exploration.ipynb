{
 "cells": [
  {
   "cell_type": "code",
   "execution_count": 1,
   "metadata": {
    "collapsed": false
   },
   "outputs": [
    {
     "name": "stdout",
     "output_type": "stream",
     "text": [
      "1.3.0\n"
     ]
    }
   ],
   "source": [
    "from __future__ import print_function\n",
    "from __future__ import absolute_import\n",
    "import warnings\n",
    "import sys\n",
    "sys.path.append('../../../../')\n",
    "sys.path.append('../')\n",
    "import tensorflow as tf\n",
    "import numpy as np\n",
    "import matplotlib.pyplot as plt\n",
    "import matplotlib as mpl\n",
    "mpl.rcParams['image.cmap'] = \"viridis\"\n",
    "import random\n",
    "random.seed(1)\n",
    "print (tf.__version__)"
   ]
  },
  {
   "cell_type": "code",
   "execution_count": 2,
   "metadata": {
    "collapsed": false
   },
   "outputs": [],
   "source": [
    "# data files for train/val. Already preprocessed\n",
    "data1 = np.load('../data_lim5000_nan.npy.zip')['data_lim5000_nan.npy'].item()\n",
    "data2 = np.load('../data_lim5000_ss.npy.zip')['data_lim5000_ss'].item()\n",
    "data3 = np.load('../data_lim5000_extra.npy').item()\n",
    "data4 = np.load('../data_lim5000_MSA.npy').item()\n",
    "#  same as above, redundant\n",
    "data1_t = np.load('../data_lim5000_nan.npy.zip')['data_lim5000_nan.npy'].item()\n",
    "data2_t = np.load('../data_lim5000_ss.npy.zip')['data_lim5000_ss'].item()\n",
    "data3_t = np.load('../data_lim5000_extra.npy').item()\n",
    "data4_t = np.load('../data_lim5000_MSA.npy').item()"
   ]
  },
  {
   "cell_type": "code",
   "execution_count": 3,
   "metadata": {
    "collapsed": true
   },
   "outputs": [],
   "source": [
    "# these contains the test sets\n",
    "puzzle = ['3OX0', '3OWZ', '3OXJ', '3OXE', '3OWZ', '3OWW', '3OXM', '3OWW', '3OWI', '3OXE',\n",
    "          '3OXM', '3OX0', '3OXJ', '3OWI', '3OXB', '3OXD', '3OXD', '3OXB', '4LCK', '4TZV',\n",
    "          '4TZZ', '4TZZ', '4TZZ', '4LCK', '4TZZ', '4TZP', '4TZW', '4TZP', '4TZZ', '4TZZ',\n",
    "          '4TZV', '4TZW', '4TZZ', '4LCK', '4TZZ', '4TZP', '4LCK', '4TZP', '5EAQ', '5DQK',\n",
    "          '5EAO', '5DH6', '5DI2', '5DH8', '5DH7', '5DI4', '4R4V', '5V3I', '4R4P', '3V7E',\n",
    "          '3V7E', '4L81', '4OQU', '4P9R', '4P95', '4QLM', '4QLN', '4XWF', '4XW7', '4GXY',\n",
    "          '5DDO', '5DDO', '5TPY','5T5A','5K7C','5DI4']"
   ]
  },
  {
   "cell_type": "code",
   "execution_count": 4,
   "metadata": {
    "collapsed": true
   },
   "outputs": [],
   "source": [
    "data_test = {}\n",
    "data_train = {}\n",
    "data_val = {}\n",
    "thres_distance  = 16"
   ]
  },
  {
   "cell_type": "code",
   "execution_count": 5,
   "metadata": {
    "collapsed": true
   },
   "outputs": [],
   "source": [
    "# helper function\n",
    "def make_array(str): #converts AUGC to vector. \n",
    "    temp = [0,]*len(str)\n",
    "    for i in range(len(str)):\n",
    "        if str[i]=='A':\n",
    "            temp[i] = [1,0,0,0,0]\n",
    "        elif str[i] =='U':\n",
    "            temp[i] = [0,1,0,0,0]\n",
    "        elif str[i] =='G':\n",
    "            temp[i] = [0,0,1,0,0]\n",
    "        elif str[i] =='C':\n",
    "            temp[i] = [0,0,0,1,0]\n",
    "        elif str[i]=='a': #lower caps means less confidence of sequence\n",
    "            temp[i] = [0.5,0,0,0,0]\n",
    "        elif str[i] =='u': #lower caps means less confidence of sequence\n",
    "            temp[i] = [0,0.5,0,0,0]\n",
    "        elif str[i] =='g': #lower caps means less confidence of sequence\n",
    "            temp[i] = [0,0,0.5,0,0]\n",
    "        elif str[i] =='c': #lower caps means less confidence of sequence\n",
    "            temp[i] = [0,0,0,0.5,0]\n",
    "        else:\n",
    "            temp[i] = [0,0,0,0,1]\n",
    "    return temp\n",
    "def make_array2(str):\n",
    "    temp = [0,]*len(str)\n",
    "    for i in range(len(str)):\n",
    "        if str[i]=='*':\n",
    "            temp[i] = 100\n",
    "        elif str[i] == 'X':\n",
    "            temp[i] = 0\n",
    "        else:\n",
    "            temp[i] = int(str[i])*10\n",
    "    return temp\n",
    "def remove_diagonals(d):\n",
    "    d = d.copy()\n",
    "    d[0:2,0:2] = 0\n",
    "    d[-2:,-2:] = 0\n",
    "    for i in range(2,len(d)-2):\n",
    "        d[i-1,i] =0\n",
    "        d[i,i] =0\n",
    "        d[i,i-1] =0\n",
    "        d[i-2,i] =0\n",
    "        d[i,i] =0\n",
    "        d[i,i-2] =0\n",
    "        d[i+1,i] =0\n",
    "        d[i,i] =0\n",
    "        d[i,i+1] =0\n",
    "        d[i+2,i] =0\n",
    "        d[i,i] =0\n",
    "        d[i,i+2] =0\n",
    "    return d"
   ]
  },
  {
   "cell_type": "code",
   "execution_count": 6,
   "metadata": {
    "collapsed": true
   },
   "outputs": [],
   "source": [
    "random.seed(0)"
   ]
  },
  {
   "cell_type": "code",
   "execution_count": 7,
   "metadata": {
    "collapsed": true
   },
   "outputs": [],
   "source": [
    "# making train/val/test index\n",
    "data1_keys_test = [ x for x in data1_t if x[0:4].upper() in puzzle]    \n",
    "data1_keys = [x for x in data1 if  len(data1[x][0]) <= 500] # the short ones get val-train split\n",
    "random.shuffle(data1_keys)\n",
    "data1_keys_val = ['4v9e_aa', '5lyu_a', '4qjd_b', '4pr6_b', '5fq5_a', '4cxg_a',\n",
    "                  '5m0h_a', '3amt_b', '4v8m_bd', '5x2h_b', '1e8s_c', '1c9s_w',\n",
    "                  '2gtt_x', '3j0o_h', '3j45_2', '3j7r_s6', '2nz4_p', '2der_c',\n",
    "                  '4cxg_2', '3p22_a', '3ivn_a', '3w3s_b', '3j0p_w', '5lzs_ii',\n",
    "                  '4ug0_s6', '3d2v_a', '2csx_c', '2oiu_q', '4kzd_r', '2j28_8',\n",
    "                  '5t5h_e', '1ffy_t', '5aka_7', '1pn7_c', '3j46_3', '4ue4_a',\n",
    "                  '1i6u_c', '3jcs_6', '1j1u_b', '3wc1_p', '3eph_e', '2qwy_a',\n",
    "                  '1un6_e', '1qzc_a', '4c4q_n', '4v6u_a1', '5xh6_b', '5mmm_z',\n",
    "                  '2hw8_b', '1mj1_q', '5o60_b', '2zy6_a', '5hr6_c', '4v5z_bg',\n",
    "                  '2zzm_b', '1p6v_b', '4v5z_ad', '2vpl_b', '1qzw_b', '4c7o_e',\n",
    "                  '2xxa_f', '2zjr_y', '5kpy_a', '4bbl_y', '1pn8_d', '1lng_b',\n",
    "                  '1m5o_b', '4kr6_d', '3nkb_b', '1gax_c', '4kr6_c', '2nue_c',\n",
    "                  '4v8b_ab', '5t83_a', '3p49_a', '3izd_a', '5ktj_a', '3j9w_bb',\n",
    "                  '3k0j_e', '5gap_v', '3ski_a', '2om7_g', '1ysh_b', '4v8p_b3',\n",
    "                  '4aob_a', '5lzs_2', '2wwb_d', '3iab_r', '4qjh_b', '4yco_d',\n",
    "                  '4tue_qv', '4kr7_x', '4adx_8', '2go5_9', '4v8m_be', '1emi_b',\n",
    "                  '3jb9_c', '5e54_a', '4p5j_a', '1zc8_h', '1y26_x', '1zc8_a',\n",
    "                  '1hc8_c', '3iyq_a', '5it9_i', '4wj3_q', '3suh_x', '1xjr_a',\n",
    "                  '4frg_b', '1zn1_c']\n",
    "data1_keys_train = [x for x in data1_keys if (x not in data1_keys_val and x[0:4].upper() not in puzzle)] +\\\n",
    "                   [x for x in data1 if  len(data1[x][0]) > 500]"
   ]
  },
  {
   "cell_type": "code",
   "execution_count": 8,
   "metadata": {
    "collapsed": true
   },
   "outputs": [],
   "source": [
    "# this is to reduce trainset size so you can run faster\n",
    "#data1_keys_train= data1_keys_train[::10]"
   ]
  },
  {
   "cell_type": "code",
   "execution_count": 9,
   "metadata": {
    "collapsed": false
   },
   "outputs": [
    {
     "name": "stdout",
     "output_type": "stream",
     "text": [
      "### TRAINSET processing ###\n"
     ]
    },
    {
     "name": "stderr",
     "output_type": "stream",
     "text": [
      "/home/leexa/anaconda2/envs/tensorflow/lib/python2.7/site-packages/ipykernel/__main__.py:8: RuntimeWarning: invalid value encountered in greater\n"
     ]
    },
    {
     "name": "stdout",
     "output_type": "stream",
     "text": [
      "5tc1_r had ValueError, probably some of inputs are of wrong dimention. Data thrown away \n",
      "(9, 9)\n",
      "### DONE ###\n",
      "### VAlidation SET processing ###\n",
      "### DONE ###\n",
      "### BENCHMARKSET processing ###\n",
      "benchmark set contains structures which were modelled in competitions, useful for benchmark\n"
     ]
    },
    {
     "name": "stderr",
     "output_type": "stream",
     "text": [
      "/home/leexa/anaconda2/envs/tensorflow/lib/python2.7/site-packages/ipykernel/__main__.py:140: RuntimeWarning: invalid value encountered in greater\n"
     ]
    },
    {
     "name": "stdout",
     "output_type": "stream",
     "text": [
      "### DONE ###\n",
      "training samples 6443 from 370 PDBid, val samples 110 from 110 PDBid\n",
      "6443 finished intitialising total number of training/val samples\n"
     ]
    }
   ],
   "source": [
    "# below is abit hairy, preprocessing, optional #\n",
    "print ('### TRAINSET processing ###')\n",
    "for i in data1_keys_train:\n",
    "    if len(data1[i][0]) >= 35:\n",
    "        if i in data2.keys():\n",
    "            try:\n",
    "                temp1 = data1[i]\n",
    "                a = (data1[i][2] > thres_distance)*1\n",
    "                temp_resi_map = np.stack((a,),axis=2)\n",
    "                d0= -1*(np.isnan(data1[i][2])-1) #non-nan values ==1 , nan =0\n",
    "                d = remove_diagonals(d0)\n",
    "                d = np.stack((d,) ,axis=2)\n",
    "                d0= np.stack((d0,),axis=2)\n",
    "                pair_wise_res = {('A','A') : 0, ('U','U') : 1, ('G','G') : 2, ('C','C') : 3,\n",
    "                                 ('A','U') : 4, ('A','G') : 5, ('A','C') : 6,\n",
    "                                 ('G','U') : 7, ('C','U') : 8,\n",
    "                                 ('C','G') : 9}\n",
    "                mat_pairres = np.zeros((len(temp1[1]),len(temp1[1]),10))\n",
    "                for ii in range(0,len(temp1[1])):\n",
    "                    for jj in range(ii,len(temp1[1])):\n",
    "                        temp_paires = sorted((temp1[1][ii],temp1[1][jj]))\n",
    "                        if tuple(temp_paires) in pair_wise_res:\n",
    "                            index = pair_wise_res[tuple(temp_paires)]\n",
    "                            mat_pairres[ii,jj,index] = 1\n",
    "                            mat_pairres[jj,ii,index] = 1\n",
    "                mat_pairres_con = np.zeros((len(temp1[1]),len(temp1[1]),10))\n",
    "                for ii in range(0,len(temp1[1])):\n",
    "                    for jj in range(ii,len(temp1[1])):\n",
    "                        temp_paires = sorted((data4[i][1][ii].upper(),\n",
    "                                              data4[i][1][jj].upper()))\n",
    "                        if tuple(temp_paires) in pair_wise_res:\n",
    "                            index = pair_wise_res[tuple(temp_paires)]\n",
    "                            mat_pairres_con[ii,jj,index] = 1\n",
    "                            mat_pairres_con[jj,ii,index] = 1\n",
    "                data2[i][0] = np.reshape(data2[i][0],(len(data2[i][0]),len(data2[i][0]),1))\n",
    "                temp2 = data2[i]\n",
    "                temp2[0] = np.concatenate((data2[i][0],mat_pairres,mat_pairres_con),axis=2)\n",
    "                temp3 = data3[i]\n",
    "                temp4 = data4[i]\n",
    "                tempF = np.concatenate((np.array(make_array(temp1[1])).T,np.array([temp2[1]]),temp3,(np.array(make_array(temp4[1])).T),np.array([make_array2(temp4[2])])))\n",
    "\n",
    "                if len(temp2[0]) <=500:\n",
    "                    data_train[i+'_ori'] = [tempF, temp1[0],temp1[1],temp_resi_map,d,temp2[1],temp2[0]]\n",
    "                for window_tup in [(35,11),(50,13),(75,25),(100,33),(125,41),(150,50),(200,66),(300,100),(400,133),(500,167)]:\n",
    "                    window, jump = window_tup[0], window_tup[1]\n",
    "                    for repeat in range(0,len(data1[i][0]) - window+1,jump):\n",
    "                        if np.mean(d0[repeat:repeat+window,repeat:repeat+window,:]) > 0.9: \n",
    "                            data_train[i+'_'+str(window)+'_'+str(repeat)] = [tempF[:,repeat:repeat+window],\n",
    "                                                   temp1[0][repeat:repeat+window],\n",
    "                                                   temp1[1][repeat:repeat+window],\n",
    "                                                   temp_resi_map[repeat:repeat+window,repeat:repeat+window,:],\n",
    "                                                   d[repeat:repeat+window,repeat:repeat+window,:],\n",
    "                                                   temp2[1][repeat:repeat+window],\n",
    "                                                   temp2[0][repeat:repeat+window,repeat:repeat+window]]\n",
    "                if 2*len(data1[i][0])//3 <= 500:                    \n",
    "                    window = 2*len(data1[i][0])//3\n",
    "                    for repeat in (0,1*len(data1[i][0])//6,2*len(data1[i][0])//6):                  \n",
    "                        data_train[i+'_'+str(window)+'_0.33'] = [tempF[:,repeat:repeat+window],\n",
    "                                                           temp1[0][repeat:repeat+window],\n",
    "                                                           temp1[1][repeat:repeat+window],\n",
    "                                                           temp_resi_map[repeat:repeat+window,repeat:repeat+window,:],\n",
    "                                                           d[repeat:repeat+window,repeat:repeat+window,:],\n",
    "                                                           temp2[1][repeat:repeat+window],\n",
    "                                                           temp2[0][repeat:repeat+window,repeat:repeat+window]]\n",
    "                if 1*len(data1[i][0])//2 <= 500:\n",
    "                    window = len(data1[i][0])//2\n",
    "                    for repeat in (0,1*len(data1[i][0])//4,2*len(data1[i][0])//4):                  \n",
    "                        data_train[i+'_'+str(window)+'_0.5'] = [tempF[:,repeat:repeat+window],\n",
    "                                                           temp1[0][repeat:repeat+window],\n",
    "                                                           temp1[1][repeat:repeat+window],\n",
    "                                                           temp_resi_map[repeat:repeat+window,repeat:repeat+window,:],\n",
    "                                                           d[repeat:repeat+window,repeat:repeat+window,:],\n",
    "                                                           temp2[1][repeat:repeat+window],\n",
    "                                                           temp2[0][repeat:repeat+window,repeat:repeat+window]]\n",
    "                if 2*len(data1[i][0])//3 <= 500:\n",
    "                    window = 3*len(data1[i][0])//4\n",
    "                    for repeat in (0,1*len(data1[i][0])//8,2*len(data1[i][0])//8):                  \n",
    "                        data_train[i+'_'+str(window)+'_0.75'] = [tempF[:,repeat:repeat+window],\n",
    "                                                           temp1[0][repeat:repeat+window],\n",
    "                                                           temp1[1][repeat:repeat+window],\n",
    "                                                           temp_resi_map[repeat:repeat+window,repeat:repeat+window,:],\n",
    "                                                           d[repeat:repeat+window,repeat:repeat+window,:],\n",
    "                                                           temp2[1][repeat:repeat+window],\n",
    "                                                           temp2[0][repeat:repeat+window,repeat:repeat+window]]\n",
    "                        \n",
    "            except ValueError:\n",
    "                print ('%s had ValueError, probably some of inputs are of wrong dimention. Data thrown away ' %i)\n",
    "                print (data2_t[i][0].shape),\n",
    "print ('### DONE ###\\n### VAlidation SET processing ###')\n",
    "train_n = len(data_train)\n",
    "for i in data1_keys_val:\n",
    "    if len(data1[i][0]) >= 35:\n",
    "        if i in data2.keys():\n",
    "            try:\n",
    "                temp1 = data1[i]\n",
    "                a = (data1[i][2] > thres_distance)*1\n",
    "                temp_resi_map = np.stack((a,),axis=2)\n",
    "                d = -1*(np.isnan(data1_t[i][2])-1) #non-nan values ==1 , nan =0\n",
    "                d = remove_diagonals(d) \n",
    "                d = np.stack((d,),axis=2)\n",
    "                pair_wise_res = {('A','A') : 0, ('U','U') : 1, ('G','G') : 2, ('C','C') : 3,\n",
    "                                 ('A','U') : 4, ('A','G') : 5, ('A','C') : 6,\n",
    "                                 ('G','U') : 7, ('C','U') : 8,\n",
    "                                 ('C','G') : 9}\n",
    "                mat_pairres = np.zeros((len(temp1[1]),len(temp1[1]),10))\n",
    "                for ii in range(0,len(temp1[1])):\n",
    "                    for jj in range(ii,len(temp1[1])):\n",
    "                        temp_paires = sorted((temp1[1][ii],temp1[1][jj]))\n",
    "                        if tuple(temp_paires) in pair_wise_res:\n",
    "                            index = pair_wise_res[tuple(temp_paires)]\n",
    "                            mat_pairres[ii,jj,index] = 1\n",
    "                            mat_pairres[jj,ii,index] = 1\n",
    "                mat_pairres_con = np.zeros((len(temp1[1]),len(temp1[1]),10))\n",
    "                for ii in range(0,len(temp1[1])):\n",
    "                    for jj in range(ii,len(temp1[1])):\n",
    "                        temp_paires = sorted((data4[i][1][ii].upper(),\n",
    "                                              data4[i][1][jj].upper()))\n",
    "                        if tuple(temp_paires) in pair_wise_res:\n",
    "                            index = pair_wise_res[tuple(temp_paires)]\n",
    "                            mat_pairres_con[ii,jj,index] = 1\n",
    "                            mat_pairres_con[jj,ii,index] = 1\n",
    "                data2[i][0] = np.reshape(data2[i][0],(len(data2[i][0]),len(data2[i][0]),1))\n",
    "                temp2 = data2[i]\n",
    "                temp2[0] = np.concatenate((data2[i][0],mat_pairres,mat_pairres_con),axis=2)                \n",
    "                temp3 = data3[i]\n",
    "                temp4 = data4[i]\n",
    "                tempF = np.concatenate((np.array(make_array(temp1[1])).T,np.array([temp2[1]]),temp3,(np.array(make_array(temp4[1])).T),np.array([make_array2(temp4[2])])))\n",
    "                    #         [9-features, seq, exxist_seq, cat dist_map,cat dist_map (non-zero), ss_1d, ss_2d]\n",
    "                data_val[i] = [tempF, temp1[0],temp1[1],temp_resi_map,d,temp2[1],temp2[0]]\n",
    "            except ValueError:\n",
    "                print ('%s had ValueError, probably some of inputs are of wrong dimention. Data thrown away ' %i)\n",
    "print ('### DONE ###')\n",
    "print ('### BENCHMARKSET processing ###')\n",
    "print ('benchmark set contains structures which were modelled in competitions, useful for benchmark') \n",
    "for i in data1_keys_test:\n",
    "    if len(data1_t[i][0]) >= 35:\n",
    "        if i in data2_t.keys():\n",
    "            try:\n",
    "                temp1 = data1_t[i]\n",
    "                a = (data1_t[i][2] > thres_distance)*1\n",
    "                temp_resi_map = np.stack((a,),axis=2)\n",
    "                d = -1*(np.isnan(data1_t[i][2])-1) #non-nan values ==1 , nan =0\n",
    "                d = remove_diagonals(d) \n",
    "                d = np.stack((d,),axis=2)\n",
    "                pair_wise_res = {('A','A') : 0, ('U','U') : 1, ('G','G') : 2, ('C','C') : 3,\n",
    "                                 ('A','U') : 4, ('A','G') : 5, ('A','C') : 6,\n",
    "                                 ('G','U') : 7, ('C','U') : 8,\n",
    "                                 ('C','G') : 9}\n",
    "                mat_pairres = np.zeros((len(temp1[1]),len(temp1[1]),10))\n",
    "                for ii in range(0,len(temp1[1])):\n",
    "                    for jj in range(ii,len(temp1[1])):\n",
    "                        temp_paires = sorted((temp1[1][ii],temp1[1][jj]))\n",
    "                        if tuple(temp_paires) in pair_wise_res:\n",
    "                            index = pair_wise_res[tuple(temp_paires)]\n",
    "                            mat_pairres[ii,jj,index] = 1\n",
    "                            mat_pairres[jj,ii,index] = 1\n",
    "                mat_pairres_con = np.zeros((len(temp1[1]),len(temp1[1]),10))\n",
    "                for ii in range(0,len(temp1[1])):\n",
    "                    for jj in range(ii,len(temp1[1])):\n",
    "                        temp_paires = sorted((data4_t[i][1][ii].upper(),\n",
    "                                              data4_t[i][1][jj].upper()))\n",
    "                        if tuple(temp_paires) in pair_wise_res:\n",
    "                            index = pair_wise_res[tuple(temp_paires)]\n",
    "                            mat_pairres_con[ii,jj,index] = 1\n",
    "                            mat_pairres_con[jj,ii,index] = 1\n",
    "                data2_t[i][0] = np.reshape(data2_t[i][0],(len(data2_t[i][0]),len(data2_t[i][0]),1))\n",
    "                temp2 = data2_t[i]\n",
    "                temp2[0] = np.concatenate((data2_t[i][0],mat_pairres,mat_pairres_con),axis=2)\n",
    "                temp3 = data3_t[i]\n",
    "                temp4 = data4_t[i]\n",
    "                tempF = np.concatenate((np.array(make_array(temp1[1])).T,np.array([temp2[1]]),temp3,(np.array(make_array(temp4[1])).T),np.array([make_array2(temp4[2])])))\n",
    "                    #         [9-features, seq, exxist_seq, cat dist_map,cat dist_map (non-zero), ss_1d, ss_2d]\n",
    "                data_test[i] = [tempF, temp1[0],temp1[1],temp_resi_map,d,temp2[1],temp2[0]]\n",
    "            except ValueError:\n",
    "                print ('%s had ValueError, probably some of inputs are of wrong dimention. Data thrown away ' %i)\n",
    "\n",
    "print ('### DONE ###')             \n",
    "val_n = len(data_val) \n",
    "print ('training samples %s from %s PDBid, val samples %s from %s PDBid' %(train_n,len(data1_keys_train),val_n,len(data1_keys_val)))            \n",
    "#np.save('data_all.npy',data)\n",
    "dictt = {}\n",
    "length = []\n",
    "for i in data_train.keys():\n",
    "\tif tuple(i.split('_')[0:2]) not in dictt :\n",
    "\t\tdictt[tuple(i.split('_')[0:2])] = 1\n",
    "\telse :\n",
    "\t\tdictt[tuple(i.split('_')[0:2])] += 1\n",
    "\tlength  += [len(data_train[i][1]),]\n",
    "#plt.hist([dictt[x] for x in dictt],100);plt.show()\n",
    "#plt.hist(length,100);plt.show()\n",
    "# initialzie train data here\n",
    "data2_x = []\n",
    "data2_y = []\n",
    "data2_y_nan = []\n",
    "data2_y_ss = []\n",
    "data2_name = []\n",
    "classweight1 = 0.\n",
    "classweight2 = 0.\n",
    "classweight3 = 0.\n",
    "for i in data_train:\n",
    "        data2_x += [data_train[i][0],]\n",
    "        data2_y += [data_train[i][3],]\n",
    "        data2_y_nan += [data_train[i][-3],]\n",
    "        data2_y_ss += [data_train[i][-1],]\n",
    "        data2_name += [i,]\n",
    "# initialzie val data here\n",
    "data2_x_val = []\n",
    "data2_y_val = []\n",
    "data2_y_nan_val = []\n",
    "data2_y_ss_val = []\n",
    "data2_name_val = []       \n",
    "for i in data_val:\n",
    "        data2_x_val += [data_val[i][0],]\n",
    "        data2_y_val += [data_val[i][3],]\n",
    "        data2_y_nan_val += [data_val[i][-3],]\n",
    "        data2_y_ss_val += [data_val[i][-1],]\n",
    "        data2_name_val += [i,]\n",
    "print (len(data2_y),'finished intitialising total number of training/val samples')\n",
    "# initialzie test data here\n",
    "data2_x_test = []\n",
    "data2_y_test = []\n",
    "data2_y_nan_test = []\n",
    "data2_y_ss_test = []\n",
    "data2_name_test = []       \n",
    "for i in data_test:\n",
    "        data2_x_test += [data_test[i][0],]\n",
    "        data2_y_test += [data_test[i][3],]\n",
    "        data2_y_nan_test += [data_test[i][-3],]\n",
    "        data2_y_ss_test += [data_test[i][-1],]\n",
    "        data2_name_test += [i,]\n"
   ]
  },
  {
   "cell_type": "code",
   "execution_count": 116,
   "metadata": {
    "collapsed": false
   },
   "outputs": [
    {
     "data": {
      "image/png": "[encoded data removed]",
      "text/plain": [
       "<matplotlib.figure.Figure at 0x7f0359e1f950>"
      ]
     },
     "metadata": {},
     "output_type": "display_data"
    },
    {
     "data": {
      "image/png": "[encoded data removed]",
      "text/plain": [
       "<matplotlib.figure.Figure at 0x7f0359991bd0>"
      ]
     },
     "metadata": {},
     "output_type": "display_data"
    },
    {
     "data": {
      "image/png": "[encoded data removed]",
      "text/plain": [
       "<matplotlib.figure.Figure at 0x7f035973e550>"
      ]
     },
     "metadata": {},
     "output_type": "display_data"
    },
    {
     "data": {
      "image/png": "[encoded data removed]",
      "text/plain": [
       "<matplotlib.figure.Figure at 0x7f035fb15fd0>"
      ]
     },
     "metadata": {},
     "output_type": "display_data"
    },
    {
     "data": {
      "image/png": "[encoded data removed]",
      "text/plain": [
       "<matplotlib.figure.Figure at 0x7f035a946210>"
      ]
     },
     "metadata": {},
     "output_type": "display_data"
    },
    {
     "data": {
      "image/png": "[encoded data removed]",
      "text/plain": [
       "<matplotlib.figure.Figure at 0x7f035aacc110>"
      ]
     },
     "metadata": {},
     "output_type": "display_data"
    }
   ],
   "source": [
    "### SEQUENCE FEATURES EXPLORATION ####\n",
    "### analyze the sequence level features\n",
    "### X axis - RNA length, Y axis - features, colour = values\n",
    "RNA_id = 2\n",
    "plt.imshow (data2_x_val[RNA_id][:5]);plt.show() # sequence AUGC for RNA\n",
    "plt.imshow (data2_x_val[RNA_id][5:6]);plt.show() # base pairs\n",
    "plt.imshow (data2_x_val[RNA_id][6:8, ]);plt.show() #positional entropy, base pair probability, mean free energy structre\n",
    "plt.imshow (data2_x_val[RNA_id][8:9]);plt.show() # base pairs numbering\n",
    "plt.imshow (data2_x_val[RNA_id][9:-1, ]);plt.show() # sequence AUGC for consenseus sequence\n",
    "plt.imshow (data2_x_val[RNA_id][-1:, ]);plt.show() # confidence of above prediction\n"
   ]
  },
  {
   "cell_type": "code",
   "execution_count": 61,
   "metadata": {
    "collapsed": false
   },
   "outputs": [
    {
     "data": {
      "image/png": "[encoded data removed]",
      "text/plain": [
       "<matplotlib.figure.Figure at 0x7f035a38fa50>"
      ]
     },
     "metadata": {},
     "output_type": "display_data"
    }
   ],
   "source": [
    "### PAIRWISE FEATURES EXPLORATION ####\n",
    "### analyze the pairwise seqeunce  features\n",
    "### X axis - RNA length, Y axis - features, colour = values\n",
    "RNA_id = 2\n",
    "f, ax = plt.subplots(3,7,figsize=(26,15));k=0\n",
    "i=0\n",
    "ax[i//7,i%7].imshow (data2_y_ss_val[RNA_id][:,:,0]);#plt.show() # secondary structure\n",
    "ax[i//7,i%7].set_xlabel('secondary structure')\n",
    "for i in range(1,11):\n",
    "    ax[i//7,i%7].imshow (data2_y_ss_val[RNA_id][:,:,i]) #pairwise base pairs\n",
    "    ax[i//7,i%7].set_xlabel('pairwise base pairs')\n",
    "for i in range(11,21):\n",
    "    ax[i//7,i%7].imshow (data2_y_ss_val[RNA_id][:,:,i])#consenseus sequence base pair\n",
    "    ax[i//7,i%7].set_xlabel('consenseus sequence base pair')\n",
    "plt.show()"
   ]
  },
  {
   "cell_type": "code",
   "execution_count": 81,
   "metadata": {
    "collapsed": false
   },
   "outputs": [
    {
     "name": "stdout",
     "output_type": "stream",
     "text": [
      "5.829815606\n"
     ]
    }
   ],
   "source": [
    "## calculate average distances\n",
    "dist =[]\n",
    "for x in data1:\n",
    "    for i in range(len(data1[x][-1])):\n",
    "        for j in range(i+1,len(data1[x][-1])):\n",
    "            dist += [data1[x][-1][i,j],]\n",
    "\n",
    "print (dist[0])"
   ]
  },
  {
   "cell_type": "code",
   "execution_count": 86,
   "metadata": {
    "collapsed": false
   },
   "outputs": [
    {
     "data": {
      "text/plain": [
       "[5.8298156060033293,\n",
       " 11.063443406101012,\n",
       " 16.220957061776591,\n",
       " nan,\n",
       " 24.250906044929536,\n",
       " 26.339016876109859,\n",
       " 26.958305380717089,\n",
       " 27.59078864403843,\n",
       " 30.083552200496534,\n",
       " 34.237848253066367]"
      ]
     },
     "execution_count": 86,
     "metadata": {},
     "output_type": "execute_result"
    }
   ],
   "source": [
    "dist[:10]"
   ]
  },
  {
   "cell_type": "markdown",
   "metadata": {},
   "source": [
    "# the histogram shows peaks at ~8,12,18 using some guestimation of combined gaussians. This is why i used a cutoff of 16 for the class seperation. This is because 16 seems like the first peak."
   ]
  },
  {
   "cell_type": "code",
   "execution_count": 103,
   "metadata": {
    "collapsed": false
   },
   "outputs": [
    {
     "data": {
      "image/png": "[encoded data removed]",
      "text/plain": [
       "<matplotlib.figure.Figure at 0x7f035964c610>"
      ]
     },
     "metadata": {},
     "output_type": "display_data"
    }
   ],
   "source": [
    "# the histogram of distances\n",
    "plt.hist([x for x in dist if x > 0]  ,bins = range(50));\n",
    "plt.xlabel('distance')\n",
    "plt.ylabel('frequency')\n",
    "plt.show()\n"
   ]
  },
  {
   "cell_type": "markdown",
   "metadata": {},
   "source": [
    "# finding number of nan in distances. Distances might not be measured due to failure of experimental methods to obtain complete data"
   ]
  },
  {
   "cell_type": "code",
   "execution_count": 129,
   "metadata": {
    "collapsed": false
   },
   "outputs": [
    {
     "name": "stderr",
     "output_type": "stream",
     "text": [
      "/home/leexa/anaconda2/envs/tensorflow/lib/python2.7/site-packages/ipykernel/__main__.py:4: RuntimeWarning: invalid value encountered in greater_equal\n"
     ]
    },
    {
     "name": "stdout",
     "output_type": "stream",
     "text": [
      "average of 0.0591272240682 distances are missing, std = 0.140476183928, max= 0.995116561207\n"
     ]
    },
    {
     "data": {
      "image/png": "[encoded data removed]",
      "text/plain": [
       "<matplotlib.figure.Figure at 0x7f035a3c8a50>"
      ]
     },
     "metadata": {},
     "output_type": "display_data"
    },
    {
     "name": "stderr",
     "output_type": "stream",
     "text": [
      "/home/leexa/anaconda2/envs/tensorflow/lib/python2.7/site-packages/ipykernel/__main__.py:12: RuntimeWarning: invalid value encountered in greater_equal\n"
     ]
    },
    {
     "data": {
      "image/png": "[encoded data removed]",
      "text/plain": [
       "<matplotlib.figure.Figure at 0x7f035a68bed0>"
      ]
     },
     "metadata": {},
     "output_type": "display_data"
    }
   ],
   "source": [
    "# the histogram of distances\n",
    "per_nan = []\n",
    "for x in data1:\n",
    "    per_nan  += [1- np.mean(data1[x][-1] >= 0),]\n",
    "print ('average of %s distances are missing, std = %s, max= %s' \n",
    "       %(np.mean(per_nan),np.std(per_nan),np.max(per_nan)))\n",
    "\n",
    "## missing resdues shown as white bars where distance inforamtion is missing\n",
    "\n",
    "plt.imshow(data1[data1.keys()[2]][-1]);\n",
    "plt.xlabel('distance matrix');plt.colorbar();plt.show() \n",
    "plt.imshow(data1[data1.keys()[2]][-1] >= 16);\n",
    "plt.xlabel('categorical distance matrix');plt.colorbar();plt.show() "
   ]
  },
  {
   "cell_type": "markdown",
   "metadata": {},
   "source": [
    "# I will maks out the missing values and the diagonals to the loss function. The diagonals are masked since they are easy to predict (always 0). Missing pixels should not be included into loss or else it will learn to predict them as 0."
   ]
  },
  {
   "cell_type": "code",
   "execution_count": 115,
   "metadata": {
    "collapsed": false
   },
   "outputs": [
    {
     "name": "stderr",
     "output_type": "stream",
     "text": [
      "/home/leexa/anaconda2/envs/tensorflow/lib/python2.7/site-packages/ipykernel/__main__.py:1: RuntimeWarning: invalid value encountered in greater_equal\n",
      "  if __name__ == '__main__':\n"
     ]
    },
    {
     "data": {
      "image/png": "[encoded data removed]",
      "text/plain": [
       "<matplotlib.figure.Figure at 0x7f0359d4ac10>"
      ]
     },
     "metadata": {},
     "output_type": "display_data"
    }
   ],
   "source": [
    "plt.imshow(remove_diagonals(data1[data1.keys()[2]][-1] >= 0.0));\n",
    "plt.title('Masking loss')\n",
    "plt.xlabel('present(1) \\nmissing(0) values');plt.colorbar();plt.show() "
   ]
  }
 ],
 "metadata": {
  "anaconda-cloud": {},
  "kernelspec": {
   "display_name": "Python [conda env:tensorflow]",
   "language": "python",
   "name": "conda-env-tensorflow-py"
  },
  "language_info": {
   "codemirror_mode": {
    "name": "ipython",
    "version": 2
   },
   "file_extension": ".py",
   "mimetype": "text/x-python",
   "name": "python",
   "nbconvert_exporter": "python",
   "pygments_lexer": "ipython2",
   "version": "2.7.13"
  }
 },
 "nbformat": 4,
 "nbformat_minor": 1
}
