{
 "cells": [
  {
   "cell_type": "code",
   "execution_count": 1,
   "metadata": {
    "collapsed": false,
    "deletable": true,
    "editable": true
   },
   "outputs": [
    {
     "name": "stdout",
     "output_type": "stream",
     "text": [
      "1.3.0\n"
     ]
    }
   ],
   "source": [
    "from __future__ import print_function\n",
    "from __future__ import absolute_import\n",
    "import warnings\n",
    "import sys\n",
    "sys.path.append('../../../../')\n",
    "sys.path.append('../')\n",
    "import tensorflow as tf\n",
    "import numpy as np\n",
    "import matplotlib.pyplot as plt\n",
    "import matplotlib as mpl\n",
    "mpl.rcParams['image.cmap'] = \"viridis\"\n",
    "import random\n",
    "random.seed(1)\n",
    "print (tf.__version__)"
   ]
  },
  {
   "cell_type": "code",
   "execution_count": 2,
   "metadata": {
    "collapsed": false,
    "deletable": true,
    "editable": true
   },
   "outputs": [],
   "source": [
    "# data files for train/val. Already preprocessed\n",
    "data1 = np.load('../data_lim5000_nan.npy.zip')['data_lim5000_nan.npy'].item()\n",
    "data2 = np.load('../data_lim5000_ss.npy.zip')['data_lim5000_ss'].item()\n",
    "data3 = np.load('../data_lim5000_extra.npy').item()\n",
    "data4 = np.load('../data_lim5000_MSA.npy').item()\n",
    "#  same as above, redundant\n",
    "data1_t = np.load('../data_lim5000_nan.npy.zip')['data_lim5000_nan.npy'].item()\n",
    "data2_t = np.load('../data_lim5000_ss.npy.zip')['data_lim5000_ss'].item()\n",
    "data3_t = np.load('../data_lim5000_extra.npy').item()\n",
    "data4_t = np.load('../data_lim5000_MSA.npy').item()"
   ]
  },
  {
   "cell_type": "code",
   "execution_count": 3,
   "metadata": {
    "collapsed": true,
    "deletable": true,
    "editable": true
   },
   "outputs": [],
   "source": [
    "# these contains the test sets\n",
    "puzzle = ['3OX0', '3OWZ', '3OXJ', '3OXE', '3OWZ', '3OWW', '3OXM', '3OWW', '3OWI', '3OXE',\n",
    "          '3OXM', '3OX0', '3OXJ', '3OWI', '3OXB', '3OXD', '3OXD', '3OXB', '4LCK', '4TZV',\n",
    "          '4TZZ', '4TZZ', '4TZZ', '4LCK', '4TZZ', '4TZP', '4TZW', '4TZP', '4TZZ', '4TZZ',\n",
    "          '4TZV', '4TZW', '4TZZ', '4LCK', '4TZZ', '4TZP', '4LCK', '4TZP', '5EAQ', '5DQK',\n",
    "          '5EAO', '5DH6', '5DI2', '5DH8', '5DH7', '5DI4', '4R4V', '5V3I', '4R4P', '3V7E',\n",
    "          '3V7E', '4L81', '4OQU', '4P9R', '4P95', '4QLM', '4QLN', '4XWF', '4XW7', '4GXY',\n",
    "          '5DDO', '5DDO', '5TPY','5T5A','5K7C','5DI4']"
   ]
  },
  {
   "cell_type": "code",
   "execution_count": 4,
   "metadata": {
    "collapsed": true,
    "deletable": true,
    "editable": true
   },
   "outputs": [],
   "source": [
    "data_test = {}\n",
    "data_train = {}\n",
    "data_val = {}\n",
    "thres_distance  = 16"
   ]
  },
  {
   "cell_type": "code",
   "execution_count": 5,
   "metadata": {
    "collapsed": true,
    "deletable": true,
    "editable": true
   },
   "outputs": [],
   "source": [
    "# helper function\n",
    "def make_array(str): #converts AUGC to vector. \n",
    "    temp = [0,]*len(str)\n",
    "    for i in range(len(str)):\n",
    "        if str[i]=='A':\n",
    "            temp[i] = [1,0,0,0,0]\n",
    "        elif str[i] =='U':\n",
    "            temp[i] = [0,1,0,0,0]\n",
    "        elif str[i] =='G':\n",
    "            temp[i] = [0,0,1,0,0]\n",
    "        elif str[i] =='C':\n",
    "            temp[i] = [0,0,0,1,0]\n",
    "        elif str[i]=='a': #lower caps means less confidence of sequence\n",
    "            temp[i] = [0.5,0,0,0,0]\n",
    "        elif str[i] =='u': #lower caps means less confidence of sequence\n",
    "            temp[i] = [0,0.5,0,0,0]\n",
    "        elif str[i] =='g': #lower caps means less confidence of sequence\n",
    "            temp[i] = [0,0,0.5,0,0]\n",
    "        elif str[i] =='c': #lower caps means less confidence of sequence\n",
    "            temp[i] = [0,0,0,0.5,0]\n",
    "        else:\n",
    "            temp[i] = [0,0,0,0,1]\n",
    "    return temp\n",
    "def make_array2(str):\n",
    "    temp = [0,]*len(str)\n",
    "    for i in range(len(str)):\n",
    "        if str[i]=='*':\n",
    "            temp[i] = 100\n",
    "        elif str[i] == 'X':\n",
    "            temp[i] = 0\n",
    "        else:\n",
    "            temp[i] = int(str[i])*10\n",
    "    return temp\n",
    "def remove_diagonals(d):\n",
    "    d = d.copy()\n",
    "    d[0:2,0:2] = 0\n",
    "    d[-2:,-2:] = 0\n",
    "    for i in range(2,len(d)-2):\n",
    "        d[i-1,i] =0\n",
    "        d[i,i] =0\n",
    "        d[i,i-1] =0\n",
    "        d[i-2,i] =0\n",
    "        d[i,i] =0\n",
    "        d[i,i-2] =0\n",
    "        d[i+1,i] =0\n",
    "        d[i,i] =0\n",
    "        d[i,i+1] =0\n",
    "        d[i+2,i] =0\n",
    "        d[i,i] =0\n",
    "        d[i,i+2] =0\n",
    "    return d"
   ]
  },
  {
   "cell_type": "code",
   "execution_count": 6,
   "metadata": {
    "collapsed": true,
    "deletable": true,
    "editable": true
   },
   "outputs": [],
   "source": [
    "random.seed(0)"
   ]
  },
  {
   "cell_type": "code",
   "execution_count": 7,
   "metadata": {
    "collapsed": true,
    "deletable": true,
    "editable": true
   },
   "outputs": [],
   "source": [
    "# making train/val/test index\n",
    "data1_keys_test = [ x for x in data1_t if x[0:4].upper() in puzzle]    \n",
    "data1_keys = [x for x in data1 if  len(data1[x][0]) <= 500] # the short ones get val-train split\n",
    "random.shuffle(data1_keys)\n",
    "data1_keys_val = ['4v9e_aa', '5lyu_a', '4qjd_b', '4pr6_b', '5fq5_a', '4cxg_a',\n",
    "                  '5m0h_a', '3amt_b', '4v8m_bd', '5x2h_b', '1e8s_c', '1c9s_w',\n",
    "                  '2gtt_x', '3j0o_h', '3j45_2', '3j7r_s6', '2nz4_p', '2der_c',\n",
    "                  '4cxg_2', '3p22_a', '3ivn_a', '3w3s_b', '3j0p_w', '5lzs_ii',\n",
    "                  '4ug0_s6', '3d2v_a', '2csx_c', '2oiu_q', '4kzd_r', '2j28_8',\n",
    "                  '5t5h_e', '1ffy_t', '5aka_7', '1pn7_c', '3j46_3', '4ue4_a',\n",
    "                  '1i6u_c', '3jcs_6', '1j1u_b', '3wc1_p', '3eph_e', '2qwy_a',\n",
    "                  '1un6_e', '1qzc_a', '4c4q_n', '4v6u_a1', '5xh6_b', '5mmm_z',\n",
    "                  '2hw8_b', '1mj1_q', '5o60_b', '2zy6_a', '5hr6_c', '4v5z_bg',\n",
    "                  '2zzm_b', '1p6v_b', '4v5z_ad', '2vpl_b', '1qzw_b', '4c7o_e',\n",
    "                  '2xxa_f', '2zjr_y', '5kpy_a', '4bbl_y', '1pn8_d', '1lng_b',\n",
    "                  '1m5o_b', '4kr6_d', '3nkb_b', '1gax_c', '4kr6_c', '2nue_c',\n",
    "                  '4v8b_ab', '5t83_a', '3p49_a', '3izd_a', '5ktj_a', '3j9w_bb',\n",
    "                  '3k0j_e', '5gap_v', '3ski_a', '2om7_g', '1ysh_b', '4v8p_b3',\n",
    "                  '4aob_a', '5lzs_2', '2wwb_d', '3iab_r', '4qjh_b', '4yco_d',\n",
    "                  '4tue_qv', '4kr7_x', '4adx_8', '2go5_9', '4v8m_be', '1emi_b',\n",
    "                  '3jb9_c', '5e54_a', '4p5j_a', '1zc8_h', '1y26_x', '1zc8_a',\n",
    "                  '1hc8_c', '3iyq_a', '5it9_i', '4wj3_q', '3suh_x', '1xjr_a',\n",
    "                  '4frg_b', '1zn1_c']\n",
    "data1_keys_train = [x for x in data1_keys if (x not in data1_keys_val and x[0:4].upper() not in puzzle)] +\\\n",
    "                   [x for x in data1 if  len(data1[x][0]) > 500]"
   ]
  },
  {
   "cell_type": "code",
   "execution_count": 8,
   "metadata": {
    "collapsed": true,
    "deletable": true,
    "editable": true
   },
   "outputs": [],
   "source": [
    "# this is to reduce trainset size so you can run faster\n",
    "data1_keys_train= data1_keys_train[::10]"
   ]
  },
  {
   "cell_type": "code",
   "execution_count": 9,
   "metadata": {
    "collapsed": false,
    "deletable": true,
    "editable": true
   },
   "outputs": [
    {
     "name": "stdout",
     "output_type": "stream",
     "text": [
      "### TRAINSET processing ###\n"
     ]
    },
    {
     "name": "stderr",
     "output_type": "stream",
     "text": [
      "/home/leexa/anaconda2/envs/tensorflow/lib/python2.7/site-packages/ipykernel/__main__.py:8: RuntimeWarning: invalid value encountered in greater\n"
     ]
    },
    {
     "name": "stdout",
     "output_type": "stream",
     "text": [
      "### DONE ###\n",
      "### VAlidation SET processing ###\n",
      "### DONE ###\n",
      "### BENCHMARKSET processing ###\n",
      "benchmark set contains structures which were modelled in competitions, useful for benchmark\n"
     ]
    },
    {
     "name": "stderr",
     "output_type": "stream",
     "text": [
      "/home/leexa/anaconda2/envs/tensorflow/lib/python2.7/site-packages/ipykernel/__main__.py:140: RuntimeWarning: invalid value encountered in greater\n"
     ]
    },
    {
     "name": "stdout",
     "output_type": "stream",
     "text": [
      "### DONE ###\n",
      "training samples 403 from 37 PDBid, val samples 110 from 110 PDBid\n",
      "403 finished intitialising total number of training/val samples\n"
     ]
    }
   ],
   "source": [
    "# below is abit hairy, preprocessing, optional #\n",
    "print ('### TRAINSET processing ###')\n",
    "for i in data1_keys_train:\n",
    "    if len(data1[i][0]) >= 35:\n",
    "        if i in data2.keys():\n",
    "            try:\n",
    "                temp1 = data1[i]\n",
    "                a = (data1[i][2] > thres_distance)*1\n",
    "                temp_resi_map = np.stack((a,),axis=2)\n",
    "                d0= -1*(np.isnan(data1[i][2])-1) #non-nan values ==1 , nan =0\n",
    "                d = remove_diagonals(d0)\n",
    "                d = np.stack((d,) ,axis=2)\n",
    "                d0= np.stack((d0,),axis=2)\n",
    "                pair_wise_res = {('A','A') : 0, ('U','U') : 1, ('G','G') : 2, ('C','C') : 3,\n",
    "                                 ('A','U') : 4, ('A','G') : 5, ('A','C') : 6,\n",
    "                                 ('G','U') : 7, ('C','U') : 8,\n",
    "                                 ('C','G') : 9}\n",
    "                mat_pairres = np.zeros((len(temp1[1]),len(temp1[1]),10))\n",
    "                for ii in range(0,len(temp1[1])):\n",
    "                    for jj in range(ii,len(temp1[1])):\n",
    "                        temp_paires = sorted((temp1[1][ii],temp1[1][jj]))\n",
    "                        if tuple(temp_paires) in pair_wise_res:\n",
    "                            index = pair_wise_res[tuple(temp_paires)]\n",
    "                            mat_pairres[ii,jj,index] = 1\n",
    "                            mat_pairres[jj,ii,index] = 1\n",
    "                mat_pairres_con = np.zeros((len(temp1[1]),len(temp1[1]),10))\n",
    "                for ii in range(0,len(temp1[1])):\n",
    "                    for jj in range(ii,len(temp1[1])):\n",
    "                        temp_paires = sorted((data4[i][1][ii].upper(),\n",
    "                                              data4[i][1][jj].upper()))\n",
    "                        if tuple(temp_paires) in pair_wise_res:\n",
    "                            index = pair_wise_res[tuple(temp_paires)]\n",
    "                            mat_pairres_con[ii,jj,index] = 1\n",
    "                            mat_pairres_con[jj,ii,index] = 1\n",
    "                data2[i][0] = np.reshape(data2[i][0],(len(data2[i][0]),len(data2[i][0]),1))\n",
    "                temp2 = data2[i]\n",
    "                temp2[0] = np.concatenate((data2[i][0],mat_pairres,mat_pairres_con),axis=2)\n",
    "                temp3 = data3[i]\n",
    "                temp4 = data4[i]\n",
    "                tempF = np.concatenate((np.array(make_array(temp1[1])).T,np.array([temp2[1]]),temp3,(np.array(make_array(temp4[1])).T),np.array([make_array2(temp4[2])])))\n",
    "\n",
    "                if len(temp2[0]) <=500:\n",
    "                    data_train[i+'_ori'] = [tempF, temp1[0],temp1[1],temp_resi_map,d,temp2[1],temp2[0]]\n",
    "                for window_tup in [(35,11),(50,13),(75,25),(100,33),(125,41),(150,50),(200,66),(300,100),(400,133),(500,167)]:\n",
    "                    window, jump = window_tup[0], window_tup[1]\n",
    "                    for repeat in range(0,len(data1[i][0]) - window+1,jump):\n",
    "                        if np.mean(d0[repeat:repeat+window,repeat:repeat+window,:]) > 0.9: \n",
    "                            data_train[i+'_'+str(window)+'_'+str(repeat)] = [tempF[:,repeat:repeat+window],\n",
    "                                                   temp1[0][repeat:repeat+window],\n",
    "                                                   temp1[1][repeat:repeat+window],\n",
    "                                                   temp_resi_map[repeat:repeat+window,repeat:repeat+window,:],\n",
    "                                                   d[repeat:repeat+window,repeat:repeat+window,:],\n",
    "                                                   temp2[1][repeat:repeat+window],\n",
    "                                                   temp2[0][repeat:repeat+window,repeat:repeat+window]]\n",
    "                if 2*len(data1[i][0])//3 <= 500:                    \n",
    "                    window = 2*len(data1[i][0])//3\n",
    "                    for repeat in (0,1*len(data1[i][0])//6,2*len(data1[i][0])//6):                  \n",
    "                        data_train[i+'_'+str(window)+'_0.33'] = [tempF[:,repeat:repeat+window],\n",
    "                                                           temp1[0][repeat:repeat+window],\n",
    "                                                           temp1[1][repeat:repeat+window],\n",
    "                                                           temp_resi_map[repeat:repeat+window,repeat:repeat+window,:],\n",
    "                                                           d[repeat:repeat+window,repeat:repeat+window,:],\n",
    "                                                           temp2[1][repeat:repeat+window],\n",
    "                                                           temp2[0][repeat:repeat+window,repeat:repeat+window]]\n",
    "                if 1*len(data1[i][0])//2 <= 500:\n",
    "                    window = len(data1[i][0])//2\n",
    "                    for repeat in (0,1*len(data1[i][0])//4,2*len(data1[i][0])//4):                  \n",
    "                        data_train[i+'_'+str(window)+'_0.5'] = [tempF[:,repeat:repeat+window],\n",
    "                                                           temp1[0][repeat:repeat+window],\n",
    "                                                           temp1[1][repeat:repeat+window],\n",
    "                                                           temp_resi_map[repeat:repeat+window,repeat:repeat+window,:],\n",
    "                                                           d[repeat:repeat+window,repeat:repeat+window,:],\n",
    "                                                           temp2[1][repeat:repeat+window],\n",
    "                                                           temp2[0][repeat:repeat+window,repeat:repeat+window]]\n",
    "                if 2*len(data1[i][0])//3 <= 500:\n",
    "                    window = 3*len(data1[i][0])//4\n",
    "                    for repeat in (0,1*len(data1[i][0])//8,2*len(data1[i][0])//8):                  \n",
    "                        data_train[i+'_'+str(window)+'_0.75'] = [tempF[:,repeat:repeat+window],\n",
    "                                                           temp1[0][repeat:repeat+window],\n",
    "                                                           temp1[1][repeat:repeat+window],\n",
    "                                                           temp_resi_map[repeat:repeat+window,repeat:repeat+window,:],\n",
    "                                                           d[repeat:repeat+window,repeat:repeat+window,:],\n",
    "                                                           temp2[1][repeat:repeat+window],\n",
    "                                                           temp2[0][repeat:repeat+window,repeat:repeat+window]]\n",
    "                        \n",
    "            except ValueError:\n",
    "                print ('%s had ValueError, probably some of inputs are of wrong dimention. Data thrown away ' %i)\n",
    "                print (data2_t[i][0].shape),\n",
    "print ('### DONE ###\\n### VAlidation SET processing ###')\n",
    "train_n = len(data_train)\n",
    "for i in data1_keys_val:\n",
    "    if len(data1[i][0]) >= 35:\n",
    "        if i in data2.keys():\n",
    "            try:\n",
    "                temp1 = data1[i]\n",
    "                a = (data1[i][2] > thres_distance)*1\n",
    "                temp_resi_map = np.stack((a,),axis=2)\n",
    "                d = -1*(np.isnan(data1_t[i][2])-1) #non-nan values ==1 , nan =0\n",
    "                d = remove_diagonals(d) \n",
    "                d = np.stack((d,),axis=2)\n",
    "                pair_wise_res = {('A','A') : 0, ('U','U') : 1, ('G','G') : 2, ('C','C') : 3,\n",
    "                                 ('A','U') : 4, ('A','G') : 5, ('A','C') : 6,\n",
    "                                 ('G','U') : 7, ('C','U') : 8,\n",
    "                                 ('C','G') : 9}\n",
    "                mat_pairres = np.zeros((len(temp1[1]),len(temp1[1]),10))\n",
    "                for ii in range(0,len(temp1[1])):\n",
    "                    for jj in range(ii,len(temp1[1])):\n",
    "                        temp_paires = sorted((temp1[1][ii],temp1[1][jj]))\n",
    "                        if tuple(temp_paires) in pair_wise_res:\n",
    "                            index = pair_wise_res[tuple(temp_paires)]\n",
    "                            mat_pairres[ii,jj,index] = 1\n",
    "                            mat_pairres[jj,ii,index] = 1\n",
    "                mat_pairres_con = np.zeros((len(temp1[1]),len(temp1[1]),10))\n",
    "                for ii in range(0,len(temp1[1])):\n",
    "                    for jj in range(ii,len(temp1[1])):\n",
    "                        temp_paires = sorted((data4[i][1][ii].upper(),\n",
    "                                              data4[i][1][jj].upper()))\n",
    "                        if tuple(temp_paires) in pair_wise_res:\n",
    "                            index = pair_wise_res[tuple(temp_paires)]\n",
    "                            mat_pairres_con[ii,jj,index] = 1\n",
    "                            mat_pairres_con[jj,ii,index] = 1\n",
    "                data2[i][0] = np.reshape(data2[i][0],(len(data2[i][0]),len(data2[i][0]),1))\n",
    "                temp2 = data2[i]\n",
    "                temp2[0] = np.concatenate((data2[i][0],mat_pairres,mat_pairres_con),axis=2)                \n",
    "                temp3 = data3[i]\n",
    "                temp4 = data4[i]\n",
    "                tempF = np.concatenate((np.array(make_array(temp1[1])).T,np.array([temp2[1]]),temp3,(np.array(make_array(temp4[1])).T),np.array([make_array2(temp4[2])])))\n",
    "                    #         [9-features, seq, exxist_seq, cat dist_map,cat dist_map (non-zero), ss_1d, ss_2d]\n",
    "                data_val[i] = [tempF, temp1[0],temp1[1],temp_resi_map,d,temp2[1],temp2[0]]\n",
    "            except ValueError:\n",
    "                print ('%s had ValueError, probably some of inputs are of wrong dimention. Data thrown away ' %i)\n",
    "print ('### DONE ###')\n",
    "print ('### BENCHMARKSET processing ###')\n",
    "print ('benchmark set contains structures which were modelled in competitions, useful for benchmark') \n",
    "for i in data1_keys_test:\n",
    "    if len(data1_t[i][0]) >= 35:\n",
    "        if i in data2_t.keys():\n",
    "            try:\n",
    "                temp1 = data1_t[i]\n",
    "                a = (data1_t[i][2] > thres_distance)*1\n",
    "                temp_resi_map = np.stack((a,),axis=2)\n",
    "                d = -1*(np.isnan(data1_t[i][2])-1) #non-nan values ==1 , nan =0\n",
    "                d = remove_diagonals(d) \n",
    "                d = np.stack((d,),axis=2)\n",
    "                pair_wise_res = {('A','A') : 0, ('U','U') : 1, ('G','G') : 2, ('C','C') : 3,\n",
    "                                 ('A','U') : 4, ('A','G') : 5, ('A','C') : 6,\n",
    "                                 ('G','U') : 7, ('C','U') : 8,\n",
    "                                 ('C','G') : 9}\n",
    "                mat_pairres = np.zeros((len(temp1[1]),len(temp1[1]),10))\n",
    "                for ii in range(0,len(temp1[1])):\n",
    "                    for jj in range(ii,len(temp1[1])):\n",
    "                        temp_paires = sorted((temp1[1][ii],temp1[1][jj]))\n",
    "                        if tuple(temp_paires) in pair_wise_res:\n",
    "                            index = pair_wise_res[tuple(temp_paires)]\n",
    "                            mat_pairres[ii,jj,index] = 1\n",
    "                            mat_pairres[jj,ii,index] = 1\n",
    "                mat_pairres_con = np.zeros((len(temp1[1]),len(temp1[1]),10))\n",
    "                for ii in range(0,len(temp1[1])):\n",
    "                    for jj in range(ii,len(temp1[1])):\n",
    "                        temp_paires = sorted((data4_t[i][1][ii].upper(),\n",
    "                                              data4_t[i][1][jj].upper()))\n",
    "                        if tuple(temp_paires) in pair_wise_res:\n",
    "                            index = pair_wise_res[tuple(temp_paires)]\n",
    "                            mat_pairres_con[ii,jj,index] = 1\n",
    "                            mat_pairres_con[jj,ii,index] = 1\n",
    "                data2_t[i][0] = np.reshape(data2_t[i][0],(len(data2_t[i][0]),len(data2_t[i][0]),1))\n",
    "                temp2 = data2_t[i]\n",
    "                temp2[0] = np.concatenate((data2_t[i][0],mat_pairres,mat_pairres_con),axis=2)\n",
    "                temp3 = data3_t[i]\n",
    "                temp4 = data4_t[i]\n",
    "                tempF = np.concatenate((np.array(make_array(temp1[1])).T,np.array([temp2[1]]),temp3,(np.array(make_array(temp4[1])).T),np.array([make_array2(temp4[2])])))\n",
    "                    #         [9-features, seq, exxist_seq, cat dist_map,cat dist_map (non-zero), ss_1d, ss_2d]\n",
    "                data_test[i] = [tempF, temp1[0],temp1[1],temp_resi_map,d,temp2[1],temp2[0]]\n",
    "            except ValueError:\n",
    "                print ('%s had ValueError, probably some of inputs are of wrong dimention. Data thrown away ' %i)\n",
    "\n",
    "print ('### DONE ###')             \n",
    "val_n = len(data_val) \n",
    "print ('training samples %s from %s PDBid, val samples %s from %s PDBid' %(train_n,len(data1_keys_train),val_n,len(data1_keys_val)))            \n",
    "#np.save('data_all.npy',data)\n",
    "dictt = {}\n",
    "length = []\n",
    "for i in data_train.keys():\n",
    "\tif tuple(i.split('_')[0:2]) not in dictt :\n",
    "\t\tdictt[tuple(i.split('_')[0:2])] = 1\n",
    "\telse :\n",
    "\t\tdictt[tuple(i.split('_')[0:2])] += 1\n",
    "\tlength  += [len(data_train[i][1]),]\n",
    "#plt.hist([dictt[x] for x in dictt],100);plt.show()\n",
    "#plt.hist(length,100);plt.show()\n",
    "# initialzie train data here\n",
    "data2_x = []\n",
    "data2_y = []\n",
    "data2_y_nan = []\n",
    "data2_y_ss = []\n",
    "data2_name = []\n",
    "classweight1 = 0.\n",
    "classweight2 = 0.\n",
    "classweight3 = 0.\n",
    "for i in data_train:\n",
    "        data2_x += [data_train[i][0],]\n",
    "        data2_y += [data_train[i][3],]\n",
    "        data2_y_nan += [data_train[i][-3],]\n",
    "        data2_y_ss += [data_train[i][-1],]\n",
    "        data2_name += [i,]\n",
    "# initialzie val data here\n",
    "data2_x_val = []\n",
    "data2_y_val = []\n",
    "data2_y_nan_val = []\n",
    "data2_y_ss_val = []\n",
    "data2_name_val = []       \n",
    "for i in data_val:\n",
    "        data2_x_val += [data_val[i][0],]\n",
    "        data2_y_val += [data_val[i][3],]\n",
    "        data2_y_nan_val += [data_val[i][-3],]\n",
    "        data2_y_ss_val += [data_val[i][-1],]\n",
    "        data2_name_val += [i,]\n",
    "print (len(data2_y),'finished intitialising total number of training/val samples')\n",
    "# initialzie test data here\n",
    "data2_x_test = []\n",
    "data2_y_test = []\n",
    "data2_y_nan_test = []\n",
    "data2_y_ss_test = []\n",
    "data2_name_test = []       \n",
    "for i in data_test:\n",
    "        data2_x_test += [data_test[i][0],]\n",
    "        data2_y_test += [data_test[i][3],]\n",
    "        data2_y_nan_test += [data_test[i][-3],]\n",
    "        data2_y_ss_test += [data_test[i][-1],]\n",
    "        data2_name_test += [i,]\n"
   ]
  },
  {
   "cell_type": "code",
   "execution_count": 10,
   "metadata": {
    "collapsed": false,
    "deletable": true,
    "editable": true
   },
   "outputs": [
    {
     "data": {
      "image/png": "[encoded data removed]",
      "text/plain": [
       "<matplotlib.figure.Figure at 0x7f4c7d6bc190>"
      ]
     },
     "metadata": {},
     "output_type": "display_data"
    },
    {
     "data": {
      "image/png": "[encoded data removed]",
      "text/plain": [
       "<matplotlib.figure.Figure at 0x7f4cba66d210>"
      ]
     },
     "metadata": {},
     "output_type": "display_data"
    },
    {
     "data": {
      "image/png": "[encoded data removed]",
      "text/plain": [
       "<matplotlib.figure.Figure at 0x7f4c7d33ed10>"
      ]
     },
     "metadata": {},
     "output_type": "display_data"
    },
    {
     "data": {
      "image/png": "[encoded data removed]",
      "text/plain": [
       "<matplotlib.figure.Figure at 0x7f4c7d444490>"
      ]
     },
     "metadata": {},
     "output_type": "display_data"
    },
    {
     "data": {
      "image/png": "[encoded data removed]",
      "text/plain": [
       "<matplotlib.figure.Figure at 0x7f4c7d367bd0>"
      ]
     },
     "metadata": {},
     "output_type": "display_data"
    },
    {
     "data": {
      "image/png": "[encoded data removed]",
      "text/plain": [
       "<matplotlib.figure.Figure at 0x7f4cac71a310>"
      ]
     },
     "metadata": {},
     "output_type": "display_data"
    }
   ],
   "source": [
    "### SEQUENCE FEATURES EXPLORATION ####\n",
    "### analyze the sequence level features\n",
    "### X axis - RNA length, Y axis - features, colour = values\n",
    "RNA_id = 2\n",
    "plt.imshow (data2_x_val[RNA_id][:5]);plt.show() # sequence AUGC for RNA\n",
    "plt.imshow (data2_x_val[RNA_id][5:6]);plt.show() # base pairs\n",
    "plt.imshow (data2_x_val[RNA_id][6:8, ]);plt.show() #positional entropy, base pair probability, mean free energy structre\n",
    "plt.imshow (data2_x_val[RNA_id][8:9]);plt.show() # base pairs numbering\n",
    "plt.imshow (data2_x_val[RNA_id][9:-1, ]);plt.show() # sequence AUGC for consenseus sequence\n",
    "plt.imshow (data2_x_val[RNA_id][-1:, ]);plt.show() # confidence of above prediction\n"
   ]
  },
  {
   "cell_type": "code",
   "execution_count": 11,
   "metadata": {
    "collapsed": false,
    "deletable": true,
    "editable": true
   },
   "outputs": [
    {
     "data": {
      "image/png": "[encoded data removed]",
      "text/plain": [
       "<matplotlib.figure.Figure at 0x7f4c7d28bb90>"
      ]
     },
     "metadata": {},
     "output_type": "display_data"
    }
   ],
   "source": [
    "### PAIRWISE FEATURES EXPLORATION ####\n",
    "### analyze the pairwise seqeunce  features\n",
    "### X axis - RNA length, Y axis - features, colour = values\n",
    "RNA_id = 2\n",
    "f, ax = plt.subplots(3,7,figsize=(26,15));k=0\n",
    "i=0\n",
    "ax[i//7,i%7].imshow (data2_y_ss_val[RNA_id][:,:,0]);#plt.show() # secondary structure\n",
    "ax[i//7,i%7].set_xlabel('secondary structure')\n",
    "for i in range(1,11):\n",
    "    ax[i//7,i%7].imshow (data2_y_ss_val[RNA_id][:,:,i]) #pairwise base pairs\n",
    "    ax[i//7,i%7].set_xlabel('pairwise base pairs')\n",
    "for i in range(11,21):\n",
    "    ax[i//7,i%7].imshow (data2_y_ss_val[RNA_id][:,:,i])#consenseus sequence base pair\n",
    "    ax[i//7,i%7].set_xlabel('consenseus sequence base pair')\n",
    "plt.show()"
   ]
  },
  {
   "cell_type": "code",
   "execution_count": 12,
   "metadata": {
    "collapsed": false,
    "deletable": true,
    "editable": true
   },
   "outputs": [
    {
     "name": "stdout",
     "output_type": "stream",
     "text": [
      "5.829815606\n"
     ]
    }
   ],
   "source": [
    "## calculate average distances\n",
    "dist =[]\n",
    "for x in data1:\n",
    "    for i in range(len(data1[x][-1])):\n",
    "        for j in range(i+1,len(data1[x][-1])):\n",
    "            dist += [data1[x][-1][i,j],]\n",
    "\n",
    "print (dist[0])"
   ]
  },
  {
   "cell_type": "code",
   "execution_count": 13,
   "metadata": {
    "collapsed": false,
    "deletable": true,
    "editable": true
   },
   "outputs": [
    {
     "data": {
      "text/plain": [
       "[5.8298156060033293,\n",
       " 11.063443406101012,\n",
       " 16.220957061776591,\n",
       " nan,\n",
       " 24.250906044929536,\n",
       " 26.339016876109859,\n",
       " 26.958305380717089,\n",
       " 27.59078864403843,\n",
       " 30.083552200496534,\n",
       " 34.237848253066367]"
      ]
     },
     "execution_count": 13,
     "metadata": {},
     "output_type": "execute_result"
    }
   ],
   "source": [
    "dist[:10]"
   ]
  },
  {
   "cell_type": "markdown",
   "metadata": {
    "deletable": true,
    "editable": true
   },
   "source": [
    "# the histogram shows peaks at ~8,12,18 using some guestimation of combined gaussians. This is why i used a cutoff of 16 for the class seperation. This is because 16 seems like the first peak."
   ]
  },
  {
   "cell_type": "code",
   "execution_count": 14,
   "metadata": {
    "collapsed": false,
    "deletable": true,
    "editable": true
   },
   "outputs": [
    {
     "data": {
      "image/png": "[encoded data removed]",
      "text/plain": [
       "<matplotlib.figure.Figure at 0x7f4c7d120d50>"
      ]
     },
     "metadata": {},
     "output_type": "display_data"
    }
   ],
   "source": [
    "# the histogram of distances\n",
    "plt.hist([x for x in dist if x > 0]  ,bins = range(50));\n",
    "plt.xlabel('distance')\n",
    "plt.ylabel('frequency')\n",
    "plt.show()\n"
   ]
  },
  {
   "cell_type": "markdown",
   "metadata": {
    "deletable": true,
    "editable": true
   },
   "source": [
    "# finding number of nan in distances. Distances might not be measured due to failure of experimental methods to obtain complete data"
   ]
  },
  {
   "cell_type": "code",
   "execution_count": 15,
   "metadata": {
    "collapsed": false,
    "deletable": true,
    "editable": true
   },
   "outputs": [
    {
     "name": "stderr",
     "output_type": "stream",
     "text": [
      "/home/leexa/anaconda2/envs/tensorflow/lib/python2.7/site-packages/ipykernel/__main__.py:4: RuntimeWarning: invalid value encountered in greater_equal\n"
     ]
    },
    {
     "name": "stdout",
     "output_type": "stream",
     "text": [
      "average of 0.0591272240682 distances are missing, std = 0.140476183928, max= 0.995116561207\n"
     ]
    },
    {
     "data": {
      "image/png": "[encoded data removed]",
      "text/plain": [
       "<matplotlib.figure.Figure at 0x7f4c7c7e4ad0>"
      ]
     },
     "metadata": {},
     "output_type": "display_data"
    },
    {
     "name": "stderr",
     "output_type": "stream",
     "text": [
      "/home/leexa/anaconda2/envs/tensorflow/lib/python2.7/site-packages/ipykernel/__main__.py:12: RuntimeWarning: invalid value encountered in greater_equal\n"
     ]
    },
    {
     "data": {
      "image/png": "[encoded data removed]",
      "text/plain": [
       "<matplotlib.figure.Figure at 0x7f4c7c659dd0>"
      ]
     },
     "metadata": {},
     "output_type": "display_data"
    }
   ],
   "source": [
    "# the histogram of distances\n",
    "per_nan = []\n",
    "for x in data1:\n",
    "    per_nan  += [1- np.mean(data1[x][-1] >= 0),]\n",
    "print ('average of %s distances are missing, std = %s, max= %s' \n",
    "       %(np.mean(per_nan),np.std(per_nan),np.max(per_nan)))\n",
    "\n",
    "## missing resdues shown as white bars where distance inforamtion is missing\n",
    "\n",
    "plt.imshow(data1[data1.keys()[2]][-1]);\n",
    "plt.xlabel('distance matrix');plt.colorbar();plt.show() \n",
    "plt.imshow(data1[data1.keys()[2]][-1] >= 16);\n",
    "plt.xlabel('categorical distance matrix');plt.colorbar();plt.show() "
   ]
  },
  {
   "cell_type": "markdown",
   "metadata": {
    "deletable": true,
    "editable": true
   },
   "source": [
    "# I will maks out the missing values and the diagonals to the loss function. The diagonals are masked since they are easy to predict (always 0). Missing pixels should not be included into loss or else it will learn to predict them as 0."
   ]
  },
  {
   "cell_type": "code",
   "execution_count": 16,
   "metadata": {
    "collapsed": false,
    "deletable": true,
    "editable": true
   },
   "outputs": [
    {
     "name": "stderr",
     "output_type": "stream",
     "text": [
      "/home/leexa/anaconda2/envs/tensorflow/lib/python2.7/site-packages/ipykernel/__main__.py:1: RuntimeWarning: invalid value encountered in greater_equal\n",
      "  if __name__ == '__main__':\n"
     ]
    },
    {
     "data": {
      "image/png": "[encoded data removed]",
      "text/plain": [
       "<matplotlib.figure.Figure at 0x7f4c58be9990>"
      ]
     },
     "metadata": {},
     "output_type": "display_data"
    }
   ],
   "source": [
    "plt.imshow(remove_diagonals(data1[data1.keys()[2]][-1] >= 0.0));\n",
    "plt.title('Masking loss')\n",
    "plt.xlabel('present(1) \\nmissing(0) values');plt.colorbar();plt.show() "
   ]
  },
  {
   "cell_type": "markdown",
   "metadata": {},
   "source": [
    "# Model starts here"
   ]
  },
  {
   "cell_type": "code",
   "execution_count": 17,
   "metadata": {
    "collapsed": true
   },
   "outputs": [],
   "source": [
    "# helper code\n",
    "epsilon = 1e-3\n",
    "def batch_normalization(x,is_training=0): #normalize each channel by its statistics. \n",
    "    mean,var = tf.nn.moments(x,[0,1,2],keep_dims=False)\n",
    "    scale = tf.Variable(tf.ones([x.shape[-1]]))\n",
    "    beta = tf.Variable(tf.zeros([x.shape[-1]]))\n",
    "    x = tf.nn.batch_normalization(x,mean,var,beta,scale,epsilon)\n",
    "    return x\n",
    "\n",
    "def conv2d(x, W, b, strides=(1,1),relu=True,padding='SAME',name=''):\n",
    "    if name != '': # Conv2D wrapper, with bias and relu activation\n",
    "        x = tf.nn.conv2d(x, W, strides=[1, strides[0], strides[0], 1], padding=padding , name = name)\n",
    "    else: x = tf.nn.conv2d(x, W, strides=[1, strides[0], strides[0], 1], padding=padding)\n",
    "    x = tf.nn.bias_add(x, b)\n",
    "    x = batch_normalization(x,phase)\n",
    "    #x = tf.\n",
    "    if relu is True:\n",
    "        return tf.nn.relu(x)\n",
    "    else:\n",
    "        return x\n",
    "def average_pooling2d(x,window = (2,2),strides=1,padding='same'):\n",
    "    x = tf.layers.average_pooling2d(x,window,strides,padding=padding)\n",
    "    #x = batch_normalization (x,phase)\n",
    "    return x#tf.nn.relu(x)\n"
   ]
  },
  {
   "cell_type": "code",
   "execution_count": 18,
   "metadata": {
    "collapsed": true
   },
   "outputs": [],
   "source": [
    "### INPUTS ###\n",
    "# tf Graph input\n",
    "x = tf.placeholder(tf.float32,[1,15,None,1],name='sequence_factors')\n",
    "# pairwise distances need to define\n",
    "resi_map0 = tf.placeholder(tf.float32,[1,None,None,1],name='distance_mat')\n",
    "# some values are na, these will be excluded from loss\n",
    "above_zero = tf.placeholder(tf.float32,[1,None,None,1],name='above_zero')\n",
    "above_zero = tf.cast(above_zero,dtype=tf.float32) #TF to float\n",
    "# if tf.is_nan, use convert to 0, else use original values\n",
    "resi_map = tf.where(tf.is_nan(resi_map0),above_zero,resi_map0,name='sequence')\n",
    "# ss_2d\n",
    "ss_2d = tf.placeholder(tf.float32,[1,None,None,21],name='ss_2d')\n",
    "#resi_map = tf.reshape(resi_map, shape=[1, -1, -1, 1])\n",
    "#x = tf.reshape(x, shape=[1, -1, 4, 1])\n",
    "rate = tf.placeholder(tf.float32,name='rate') #dropout (keep probability)\n"
   ]
  },
  {
   "cell_type": "code",
   "execution_count": 19,
   "metadata": {
    "collapsed": false
   },
   "outputs": [
    {
     "name": "stdout",
     "output_type": "stream",
     "text": [
      "number of weights\n",
      "1_wc1aa 240\n",
      "1_wc1ab 1280\n",
      "1_wc1ac 1280\n",
      "1_wc1ba 240\n",
      "1_wc1bb 1280\n",
      "1_wc1c 240\n",
      "1_wc1d 240\n",
      "2_SS 903\n",
      "2_wc1aa 1536\n",
      "2_wc1ab 2880\n",
      "2_wc1ac 2880\n",
      "2_wc1ba 1536\n",
      "2_wc1bb 2880\n",
      "2_wc1c 1536\n",
      "2_wc1d 1536\n",
      "3_wc1aa 7680\n",
      "3_wc1ab 11520\n",
      "3_wc1ac 11520\n",
      "3_wc1ba 7680\n",
      "3_wc1bb 20736\n",
      "3_wc1c 7680\n",
      "3_wc1d 7680\n",
      "4_wc1aa 9216\n",
      "4_wc1ab 11520\n",
      "4_wc1ac 11520\n",
      "4_wc1ba 9216\n",
      "4_wc1bb 20736\n",
      "4_wc1c 9216\n",
      "4_wc1d 9216\n",
      "5_wc1aa 10752\n",
      "5_wc1ab 15680\n",
      "5_wc1ac 15680\n",
      "5_wc1ba 10752\n",
      "5_wc1bb 28224\n",
      "5_wc1c 10752\n",
      "5_wc1d 10752\n",
      "6_wc1aa 0\n",
      "6_wc1ab 0\n",
      "6_wc1ac 0\n",
      "6_wc1ba 0\n",
      "6_wc1bb 0\n",
      "6_wc1c 0\n",
      "6_wc1d 0\n",
      "7_wc1aa 0\n",
      "7_wc1ab 0\n",
      "7_wc1ac 0\n",
      "7_wc1ba 0\n",
      "7_wc1bb 0\n",
      "7_wc1c 0\n",
      "7_wc1d 0\n",
      "9_out2 5600\n",
      "283815 :total parameters\n"
     ]
    }
   ],
   "source": [
    "### DEFINING NUMBER OF WEIGHTS ###\n",
    "window = 5\n",
    "num1 = 64/4\n",
    "num2 = 96/4\n",
    "num3 = 192/4\n",
    "num4 = 192/4\n",
    "num5 = 224/4\n",
    "num6 = 0/4\n",
    "num7 = 0/4\n",
    "# Store layers weight & bias\n",
    "weights = {\n",
    "    # 1D inception layer\n",
    "    '1_wc1aa': tf.Variable(tf.random_normal([15, 1, 1, num1])),\n",
    "    '1_wc1ab': tf.Variable(tf.random_normal([1, window, num1, num1])),\n",
    "    '1_wc1ac': tf.Variable(tf.random_normal([1, window, num1, num1])),\n",
    "    '1_wc1ba': tf.Variable(tf.random_normal([15, 1, 1, num1])),\n",
    "    '1_wc1bb': tf.Variable(tf.random_normal([1, window, num1, num1])),\n",
    "    '1_wc1c': tf.Variable(tf.random_normal([15, 1, 1, num1])),\n",
    "    '1_wc1d': tf.Variable(tf.random_normal([15, 1, 1, num1])),\n",
    "    # 1D inception layer\n",
    "    '2_wc1aa': tf.Variable(tf.random_normal([1, 1, num1*4, num2])),\n",
    "    '2_wc1ab': tf.Variable(tf.random_normal([1, window, num2, num2])),\n",
    "    '2_wc1ac': tf.Variable(tf.random_normal([1, window, num2, num2])),\n",
    "    '2_wc1ba': tf.Variable(tf.random_normal([1, 1, num1*4, num2])),\n",
    "    '2_wc1bb': tf.Variable(tf.random_normal([1, window, num2, num2])),\n",
    "    '2_wc1c': tf.Variable(tf.random_normal([1, 1, num1*4,num2])),\n",
    "    '2_wc1d': tf.Variable(tf.random_normal([1, 1, num1*4, num2])),\n",
    "    '2_SS' : tf.Variable(tf.random_normal([1,1,21,43])),\n",
    "    \n",
    "    # 2D inception layer output 96 layer\n",
    "    '3_wc1aa': tf.Variable(tf.random_normal([1, 1, num2*4+64, num3])),\n",
    "    '3_wc1ab': tf.Variable(tf.random_normal([window, 1, num3, num3])),\n",
    "    '3_wc1ac': tf.Variable(tf.random_normal([1, window, num3, num3])),\n",
    "    '3_wc1ba': tf.Variable(tf.random_normal([1, 1, num2*4+64, num3])),\n",
    "    '3_wc1bb': tf.Variable(tf.random_normal([3, 3, num3, num3])),\n",
    "    '3_wc1c': tf.Variable(tf.random_normal([1, 1, num2*4+64, num3])),\n",
    "    '3_wc1d': tf.Variable(tf.random_normal([1, 1, num2*4+64, num3])),\n",
    "\n",
    "\n",
    "    '4_wc1aa': tf.Variable(tf.random_normal([1, 1, num3*4, num4])),\n",
    "    '4_wc1ab': tf.Variable(tf.random_normal([1, window, num4, num4])),\n",
    "    '4_wc1ac': tf.Variable(tf.random_normal([window, 1, num4, num4])),\n",
    "    '4_wc1ba': tf.Variable(tf.random_normal([1, 1, num3*4, num4])),\n",
    "    '4_wc1bb': tf.Variable(tf.random_normal([3, 3, num4, num4])),\n",
    "    '4_wc1c': tf.Variable(tf.random_normal([1, 1, num3*4, num4])),\n",
    "    '4_wc1d': tf.Variable(tf.random_normal([1, 1, num3*4, num4])),\n",
    "\n",
    "    '5_wc1aa': tf.Variable(tf.random_normal([1, 1, num4*4, num5])),\n",
    "    '5_wc1ab': tf.Variable(tf.random_normal([window, 1, num5, num5])),\n",
    "    '5_wc1ac': tf.Variable(tf.random_normal([1, window, num5, num5])),\n",
    "    '5_wc1ba': tf.Variable(tf.random_normal([1, 1, num4*4, num5])),\n",
    "    '5_wc1bb': tf.Variable(tf.random_normal([3, 3, num5, num5])),\n",
    "    '5_wc1c': tf.Variable(tf.random_normal([1, 1, num4*4, num5])),\n",
    "    '5_wc1d': tf.Variable(tf.random_normal([1, 1, num4*4, num5])),\n",
    "\n",
    "    '6_wc1aa': tf.Variable(tf.random_normal([1, 1, num5*4, num6])),\n",
    "    '6_wc1ab': tf.Variable(tf.random_normal([1, window, num6, num6])),\n",
    "    '6_wc1ac': tf.Variable(tf.random_normal([window, 1, num6, num6])),\n",
    "    '6_wc1ba': tf.Variable(tf.random_normal([1, 1, num5*4, num6])),\n",
    "    '6_wc1bb': tf.Variable(tf.random_normal([3, 3, num6, num6])),\n",
    "    '6_wc1c': tf.Variable(tf.random_normal([1, 1, num5*4, num6])),\n",
    "    '6_wc1d': tf.Variable(tf.random_normal([1, 1, num5*4, num6])),\n",
    "\n",
    "    '7_wc1aa': tf.Variable(tf.random_normal([1, 1, num6*4, num7])),\n",
    "    '7_wc1ab': tf.Variable(tf.random_normal([window, 1, num7, num7])),\n",
    "    '7_wc1ac': tf.Variable(tf.random_normal([1, window, num7, num7])),\n",
    "    '7_wc1ba': tf.Variable(tf.random_normal([1, 1, num6*4, num7])),\n",
    "    '7_wc1bb': tf.Variable(tf.random_normal([window/2, window/2, num7, num7])),\n",
    "    '7_wc1c': tf.Variable(tf.random_normal([1, 1, num6*4, num7])),\n",
    "    '7_wc1d': tf.Variable(tf.random_normal([1, 1, num6*4, num7])),\n",
    "\n",
    "    '9_out2': tf.Variable(tf.random_normal([5,5,num5*4, 1]))   \n",
    "}\n",
    "\n",
    "biases = {\n",
    "    '1_bc1aa': tf.Variable(tf.random_normal([num1])),\n",
    "    '1_bc1ab': tf.Variable(tf.random_normal([num1])),\n",
    "    '1_bc1ac': tf.Variable(tf.random_normal([num1])),\n",
    "    '1_bc1ba': tf.Variable(tf.random_normal([num1])),\n",
    "    '1_bc1bb': tf.Variable(tf.random_normal([num1])),\n",
    "    '1_bc1c': tf.Variable(tf.random_normal([num1])),\n",
    "    '1_bc1d': tf.Variable(tf.random_normal([num1])),\n",
    "\n",
    "    '2_bc1aa': tf.Variable(tf.random_normal([num2])),\n",
    "    '2_bc1ab': tf.Variable(tf.random_normal([num2])),\n",
    "    '2_bc1ac': tf.Variable(tf.random_normal([num2])),\n",
    "    '2_bc1ba': tf.Variable(tf.random_normal([num2])),\n",
    "    '2_bc1bb': tf.Variable(tf.random_normal([num2])),\n",
    "    '2_bc1c': tf.Variable(tf.random_normal([num2])),\n",
    "    '2_bc1d': tf.Variable(tf.random_normal([num2])),\n",
    "    '2_SS' : tf.Variable(tf.random_normal([43])),\n",
    "\n",
    "    '3_bc1aa': tf.Variable(tf.random_normal([num3])),\n",
    "    '3_bc1ab': tf.Variable(tf.random_normal([num3])),\n",
    "    '3_bc1ac': tf.Variable(tf.random_normal([num3])),\n",
    "    '3_bc1ba': tf.Variable(tf.random_normal([num3])),\n",
    "    '3_bc1bb': tf.Variable(tf.random_normal([num3])),\n",
    "    '3_bc1c': tf.Variable(tf.random_normal([num3])),\n",
    "    '3_bc1d': tf.Variable(tf.random_normal([num3])),\n",
    "\n",
    "    '4_bc1aa': tf.Variable(tf.random_normal([num4])),\n",
    "    '4_bc1ab': tf.Variable(tf.random_normal([num4])),\n",
    "    '4_bc1ac': tf.Variable(tf.random_normal([num4])),\n",
    "    '4_bc1ba': tf.Variable(tf.random_normal([num4])),\n",
    "    '4_bc1bb': tf.Variable(tf.random_normal([num4])),\n",
    "    '4_bc1c': tf.Variable(tf.random_normal([num4])),\n",
    "    '4_bc1d': tf.Variable(tf.random_normal([num4])),\n",
    "\n",
    "    '5_bc1aa': tf.Variable(tf.random_normal([num5])),\n",
    "    '5_bc1ab': tf.Variable(tf.random_normal([num5])),\n",
    "    '5_bc1ac': tf.Variable(tf.random_normal([num5])),\n",
    "    '5_bc1ba': tf.Variable(tf.random_normal([num5])),\n",
    "    '5_bc1bb': tf.Variable(tf.random_normal([num5])),\n",
    "    '5_bc1c': tf.Variable(tf.random_normal([num5])),\n",
    "    '5_bc1d': tf.Variable(tf.random_normal([num5])),\n",
    "\n",
    "    '6_bc1aa': tf.Variable(tf.random_normal([num6])),\n",
    "    '6_bc1ab': tf.Variable(tf.random_normal([num6])),\n",
    "    '6_bc1ac': tf.Variable(tf.random_normal([num6])),\n",
    "    '6_bc1ba': tf.Variable(tf.random_normal([num6])),\n",
    "    '6_bc1bb': tf.Variable(tf.random_normal([num6])),\n",
    "    '6_bc1c': tf.Variable(tf.random_normal([num6])),\n",
    "    '6_bc1d': tf.Variable(tf.random_normal([num6])),\n",
    "\n",
    "    '7_bc1aa': tf.Variable(tf.random_normal([num7])),\n",
    "    '7_bc1ab': tf.Variable(tf.random_normal([num7])),\n",
    "    '7_bc1ac': tf.Variable(tf.random_normal([num7])),\n",
    "    '7_bc1ba': tf.Variable(tf.random_normal([num7])),\n",
    "    '7_bc1bb': tf.Variable(tf.random_normal([num7])),\n",
    "    '7_bc1c': tf.Variable(tf.random_normal([num7])),\n",
    "    '7_bc1d': tf.Variable(tf.random_normal([num7])),\n",
    "    \n",
    "    '9_out2': tf.Variable(tf.random_normal([1]))\n",
    "}\n",
    "print ('number of weights')\n",
    "total_parameters = 0\n",
    "for variable in sorted(weights):\n",
    "    # shape is an array of tf.Dimension\n",
    "    shape = weights[variable].get_shape()\n",
    "    variable_parameters = 1\n",
    "    for dim in shape:\n",
    "        variable_parameters *= dim.value\n",
    "    print(variable,variable_parameters)\n",
    "    total_parameters += variable_parameters\n",
    "print(total_parameters, ':total parameters')\n"
   ]
  },
  {
   "cell_type": "code",
   "execution_count": 20,
   "metadata": {
    "collapsed": false
   },
   "outputs": [
    {
     "data": {
      "text/plain": [
       "0"
      ]
     },
     "execution_count": 20,
     "metadata": {},
     "output_type": "execute_result"
    }
   ],
   "source": [
    "### CLEAR UP RAM ### \n",
    "import gc\n",
    "del data1,data2,data3,data4\n",
    "del data1_t,data2_t,data3_t,data4_t\n",
    "del data_val,data_train\n",
    "gc.collect()\n"
   ]
  },
  {
   "cell_type": "code",
   "execution_count": 21,
   "metadata": {
    "collapsed": true
   },
   "outputs": [],
   "source": [
    "### MODEL ###\n",
    "# construct model\n",
    "# 1D first inception layer\n",
    "phase = tf.placeholder(tf.bool, name='phase')\n",
    "dropout = tf.placeholder(tf.float32,name='dropout')\n",
    "norm_x = x#batch_normalization(x,phase)\n",
    "conv1aa = conv2d(norm_x,weights['1_wc1aa'],biases['1_bc1aa'],padding='VALID')\n",
    "conv1ab = conv2d(conv1aa,weights['1_wc1ab'],biases['1_bc1ab'],name='conv1ab')\n",
    "conv1ac = conv2d(conv1ab,weights['1_wc1ac'],biases['1_bc1ac'],name='conv1ac')\n",
    "conv1ba = conv2d(norm_x,weights['1_wc1ba'],biases['1_bc1ba'],padding='VALID')\n",
    "conv1bb = conv2d(conv1ba,weights['1_wc1bb'],biases['1_bc1bb'],name='conv1bb')\n",
    "conv1ca = conv2d(norm_x,weights['1_wc1c'],biases['1_bc1c'],padding='VALID')\n",
    "conv1cb = average_pooling2d(conv1ca,(1,2),1,padding='same')\n",
    "conv1da = conv2d(norm_x,weights['1_wc1d'],biases['1_bc1d'],padding='VALID')\n",
    "conv1 = tf.concat([conv1ac,conv1bb,conv1cb,conv1da],3)\n",
    "conv1 = tf.layers.dropout(conv1,rate=dropout,name='drop1',training=False)\n",
    "\n",
    "# 1d second inception layer\n",
    "conv2aa = conv2d(conv1,weights['2_wc1aa'],biases['2_bc1aa'],relu=False) #gives linear combination between channels\n",
    "conv2ab = conv2d(conv2aa,weights['2_wc1ab'],biases['2_bc1ab'])\n",
    "conv2ac = conv2d(conv2ab,weights['2_wc1ac'],biases['2_bc1ac'])\n",
    "conv2ba = conv2d(conv1,weights['2_wc1ba'],biases['2_bc1ba'],relu=False) #gives linear combination between channels\n",
    "conv2bb = conv2d(conv2ba,weights['2_wc1bb'],biases['2_bc1bb'])\n",
    "conv2ca = average_pooling2d(conv1,(1,2),1,padding='same')\n",
    "conv2cb = conv2d(conv1,weights['2_wc1c'],biases['2_bc1c'])\n",
    "conv2da = conv2d(conv1,weights['2_wc1d'],biases['2_bc1d']) #not to over helper function with name, changed variable from conv2d to conv2da\n",
    "conv2 = tf.concat([conv2ac,conv2bb,conv2cb,conv2da],3)\n",
    "conv2 = tf.layers.dropout(conv2,rate=dropout,training=False)\n",
    "\n",
    "# linear combination of 2DSS\n",
    "ss_2d_2 = conv2d(ss_2d,weights['2_SS'],biases['2_SS'],padding='VALID',relu=True)\n",
    "final = []\n",
    "for i in range(0,0):\n",
    "    mat_x = conv2[:,:,:,i]\n",
    "    final += [tf.matmul(mat_x,mat_x,transpose_a=True),]\n",
    "    #final += tf.reshape(final[i],(-1,100,100,1))\n",
    "#final +=  [ss_2d,]\n",
    "for i in range(0,num2*4): #reconstruction of image from SVD\n",
    "    diag  = tf.diag(conv2[:,0,:,i])[:,:,0,:] #batch size must be 1 because of here\n",
    "    ud = tf.matmul(diag[:,:,:],conv2[:,0,:,:])\n",
    "    svd = tf.matmul(ud, tf.transpose(conv2[:,0,:,:],(0,2,1))) \n",
    "    final += [svd,]\n",
    "\n",
    "y = tf.stack(final,axis=3)\n",
    "y1 = tf.concat([y,ss_2d,ss_2d_2],axis = 3)\n",
    "y2 = batch_normalization(y1,phase)\n",
    "\n",
    "\n",
    "# 2d first inception layer\n",
    "conv3aa = conv2d(y2,weights['3_wc1aa'],biases['3_bc1aa'],relu=False) #gives linear combination between channels\n",
    "# 15 x 1 followed by 1 x 15 convolution == 15 x 15 convolution\n",
    "conv3ab = conv2d(conv3aa,weights['3_wc1ab'],biases['3_bc1ab'],relu=False) \n",
    "conv3ac = conv2d(conv3ab,weights['3_wc1ac'],biases['3_bc1ac'],relu=False)\n",
    "conv3ba = conv2d(y2,weights['3_wc1ba'],biases['3_bc1ba'],relu=False) #gives linear combination between channels\n",
    "conv3bb = conv2d(conv3ba,weights['3_wc1bb'],biases['3_bc1bb'])\n",
    "conv3ca = average_pooling2d(y2,(2,2),1,padding='same')\n",
    "conv3cb = conv2d(y2,weights['3_wc1c'],biases['3_bc1c'])\n",
    "conv3d = conv2d(y2,weights['3_wc1d'],biases['3_bc1d'])\n",
    "conv3 = tf.concat([conv3ac,conv3bb,conv3cb,conv3d],3)\n",
    "conv3 = tf.layers.dropout(conv3,rate=dropout,training=True)\n",
    "# 2d second inception layer\n",
    "conv4aa = conv2d(conv3,weights['4_wc1aa'],biases['4_bc1aa'],relu=False) #gives linear combination between channels\n",
    "# 15 x 1 followed by 1 x 15 convolution == 15 x 15 convolution\n",
    "conv4ab = conv2d(conv4aa,weights['4_wc1ab'],biases['4_bc1ab'],relu=False)\n",
    "conv4ac = conv2d(conv4ab,weights['4_wc1ac'],biases['4_bc1ac'],relu=False)\n",
    "conv4ba = conv2d(conv3,weights['4_wc1ba'],biases['4_bc1ba'],relu=False) #gives linear combination between channels\n",
    "conv4bb = conv2d(conv4ba,weights['4_wc1bb'],biases['4_bc1bb'])\n",
    "conv4ca = average_pooling2d(conv3,(2,2),1,padding='same')\n",
    "conv4cb = conv2d(conv3,weights['4_wc1c'],biases['4_bc1c'])\n",
    "conv4d = conv2d(conv3,weights['4_wc1d'],biases['4_bc1d'])\n",
    "conv4 = tf.concat([conv4ac,conv4bb,conv4cb,conv4d],3)\n",
    "conv4 = tf.layers.dropout(conv4,rate=dropout,training=True)\n",
    "### 2d third inception layer\n",
    "conv5aa = conv2d(conv4,weights['5_wc1aa'],biases['5_bc1aa'])\n",
    "conv5ab = conv2d(conv5aa,weights['5_wc1ab'],biases['5_bc1ab'])\n",
    "conv5ac = conv2d(conv5ab,weights['5_wc1ac'],biases['5_bc1ac'])\n",
    "conv5ba = conv2d(conv4,weights['5_wc1ba'],biases['5_bc1ba'])\n",
    "conv5bb = conv2d(conv5ba,weights['5_wc1bb'],biases['5_bc1bb'])\n",
    "conv5ca = average_pooling2d(conv4,(2,2),1,padding='same')\n",
    "conv5cb = conv2d(conv4,weights['5_wc1c'],biases['5_bc1c'])\n",
    "conv5d = conv2d(conv4,weights['5_wc1d'],biases['5_bc1d'])\n",
    "conv5 = tf.concat([conv5ac,conv5bb,conv5cb,conv5d],3)\n",
    "conv5 = tf.layers.dropout(conv5,rate=dropout,training=True)\n",
    "\n",
    "out = conv2d(conv5,weights['9_out2'],biases['9_out2'],relu=False)\n",
    "out_softmax = tf.nn.sigmoid(out)\n"
   ]
  },
  {
   "cell_type": "code",
   "execution_count": 23,
   "metadata": {
    "collapsed": false
   },
   "outputs": [],
   "source": [
    "### Define loss and optimizer ###\n",
    "\n",
    "log_loss =tf.nn.sigmoid_cross_entropy_with_logits(logits = out, labels = resi_map )\n",
    "cost =  tf.reduce_mean(tf.multiply(log_loss,above_zero)) # this is masking the nan and diagonals in the loss\n",
    "learning_rate = tf.Variable(0,dtype= np.float32)\n",
    "update_ops = tf.get_collection(tf.GraphKeys.UPDATE_OPS)\n",
    "with tf.control_dependencies(update_ops):\n",
    "    extra_optimizer = tf.train.MomentumOptimizer(learning_rate=learning_rate,momentum=0.5).minimize(cost)\n",
    "def accuracy(mat_model,answer):\n",
    "    mat_model = np.reshape(mat_model,(mat_model.shape[1],mat_model.shape[1]))\n",
    "    answer = np.reshape(answer,(answer.shape[1],answer.shape[1]))\n",
    "    score = [[0],[0],[0]]\n",
    "    for i in range(0,answer.shape[1]):\n",
    "        if np.sum(answer[i,:]) != 0:\n",
    "            for j in range(i+1,answer.shape[1]):\n",
    "                if np.sum(answer[j,:]) != 0:\n",
    "                    if answer[i,j] == mat_model[i,j]:\n",
    "                        score[answer[i,j]] += [1,]\n",
    "                    else:\n",
    "                        score[answer[i,j]] += [0,]\n",
    "    return np.mean([np.mean(score[0]),np.mean(score[1])])"
   ]
  },
  {
   "cell_type": "code",
   "execution_count": 24,
   "metadata": {
    "collapsed": false
   },
   "outputs": [
    {
     "name": "stdout",
     "output_type": "stream",
     "text": [
      "starting from : model300_reweigh_loss_245_70.ckpt\n",
      "INFO:tensorflow:Restoring parameters from ./model300_reweigh_loss_245_70.ckpt\n"
     ]
    }
   ],
   "source": [
    "### LOAD LASTEST CHECKPOINT ###\n",
    "import os\n",
    "saver = tf.train.Saver()\n",
    "# Initializing the variables\n",
    "init = tf.global_variables_initializer();sess = tf.Session();sess.run(init)\n",
    "saved_files = [xxx[:-5] for xxx in os.listdir('.') if (xxx.startswith('model') and xxx.endswith('.ckpt.meta'))]\n",
    "next_epoch = 0\n",
    "if len(saved_files) >= 1:\n",
    "    last_file = sorted(saved_files,key=lambda x : int(x.split('_')[-2]))[-1]\n",
    "    next_epoch = int(last_file.split('_')[-2])\n",
    "    print ('starting from :' ,last_file)\n",
    "    saver.restore(sess,'./'+last_file)# Training cycle"
   ]
  },
  {
   "cell_type": "code",
   "execution_count": null,
   "metadata": {
    "collapsed": true
   },
   "outputs": [],
   "source": [
    "###  TRAIN LOOP ###\n",
    "result = {}\n",
    "random.seed(0)\n",
    "shuffle = range(len(data2_x))\n",
    "random.shuffle(shuffle)\n",
    "text = ''\n",
    "tf.summary.FileWriter('logs', graph=tf.get_default_graph())\n",
    "for epoch in range(next_epoch,training_epochs):\n",
    "    counter = 0\n",
    "    avg_cost = []\n",
    "    val_cost = []\n",
    "    test_cost = []\n",
    "    train_acc = []\n",
    "    val_acc = []\n",
    "    test_acc = []\n",
    "    total_batch = train_n#int(mnist.train.num_examples/batch_size)\n",
    "    # Loop over all batches\n",
    "    shuffle = range(len(data2_x))\n",
    "    random.shuffle(shuffle)\n",
    "    num = 1\n",
    "    if True:\n",
    "        for batch in range(0,len(shuffle),num):\n",
    "            batch_list = shuffle[batch:batch+num] \n",
    "            counter += 1\n",
    "            if epoch %2 == 0:\n",
    "                lr = 1+np.cos(1.0*batch*3.142/len(shuffle))\n",
    "            elif epoch %2 == 1:\n",
    "                lr = 1+np.cos(1.0*batch*3.142/len(shuffle))\n",
    "            if epoch < training_epochs//2:\n",
    "                lr = lr/10\n",
    "            elif epoch < 3*training_epochs//4:\n",
    "                lr = lr/100\n",
    "            else:\n",
    "                lr = lr/1000          \n",
    "            batch_x = np.array([[data2_x[i]] for i in batch_list])\n",
    "            batch_y = np.array([data2_y[i]for i in batch_list])\n",
    "            batch_y_nan = np.array([data2_y_nan[i]  for i in batch_list])\n",
    "            batch_y_ss = np.array([data2_y_ss[i]  for i in batch_list ])\n",
    "            batch_x = np.swapaxes(np.swapaxes(batch_x,1,3),1,2)\n",
    "            # Run optimization op (backprop) and cost op (to get loss value)\n",
    "            _, c = sess.run([extra_optimizer, cost], feed_dict={x: batch_x,\n",
    "                                                          resi_map0: batch_y,\n",
    "                                                          above_zero : batch_y_nan,\n",
    "                                                          ss_2d : batch_y_ss,\n",
    "                                                          phase : True, learning_rate : lr, dropout : 0.0})\n",
    "\n",
    "    if True:\n",
    "        k,lr = 0,0\n",
    "        val_acc = []\n",
    "        train_acc = []\n",
    "        avg_cost  = []\n",
    "        for i in range(0,len(data2_x)):\n",
    "            batch_x, batch_y = np.array([[data2_x[i],],]),np.array([data2_y[i],])\n",
    "            batch_y_nan,batch_y_ss = np.array([data2_y_nan[i]]),np.array([data2_y_ss[i]])\n",
    "            batch_x = np.swapaxes(np.swapaxes(batch_x,1,3),1,2)\n",
    "            pred = sess.run( out_softmax, feed_dict={x: batch_x,resi_map0: batch_y,\n",
    "                                                         above_zero : batch_y_nan, ss_2d : batch_y_ss,\n",
    "                                                            phase : False, learning_rate : lr, dropout : 0})\n",
    "            c  = sess.run( cost, feed_dict={x: batch_x,resi_map0: batch_y,\n",
    "                                                         above_zero : batch_y_nan, ss_2d : batch_y_ss,\n",
    "                                                            phase : False, learning_rate : lr, dropout : 0})\n",
    "            for k in range(len(batch_y)):\n",
    "                train_acc += [accuracy((pred[k]+np.transpose(pred[k],(1,0,2)))//1,batch_y[k]),]\n",
    "            # Compute average loss\n",
    "            avg_cost += [c,]\n",
    "        for i in range(len(data2_x_val)):\n",
    "                batch_x, batch_y = np.array([[data2_x_val[i],],]),np.array([data2_y_val[i],])\n",
    "                batch_y_nan,batch_y_ss = np.array([data2_y_nan_val[i]]),np.array([data2_y_ss_val[i]])\n",
    "                batch_x = np.swapaxes(np.swapaxes(batch_x,1,3),1,2)\n",
    "                cost_i  = sess.run( cost, feed_dict={x: batch_x,resi_map0: batch_y,\n",
    "                                                     above_zero : batch_y_nan, ss_2d : batch_y_ss,\n",
    "                                                     phase : False, learning_rate : lr, dropout : 0})\n",
    "                val_cost += [cost_i,]\n",
    "                pred =sess.run( out_softmax, feed_dict={x: batch_x,resi_map0: batch_y,\n",
    "                                                     above_zero : batch_y_nan, ss_2d : batch_y_ss,\n",
    "                                                        phase : False, learning_rate : lr, dropout : 0})\n",
    "                val_acc += [accuracy((pred[k]+np.transpose(pred[k],(1,0,2)))//1,batch_y[k]),]\n",
    "                if False:\n",
    "                    temp_pred = pred[k]+np.transpose(pred[k],(1,0,2))\n",
    "                    f, ax = plt.subplots(1,5,figsize=(19,5));k=0\n",
    "                    ax[0].imshow(temp_pred[:,:,0]>=1)\n",
    "                    ax[1].imshow(temp_pred[:,:,0]>=1.6)\n",
    "                    ax[2].imshow(temp_pred[:,:,0]>=1.5)\n",
    "                    ax[-2].imshow(temp_pred[:,:,0] *200//20)\n",
    "                    ax[-1].imshow(batch_y[k,:,:,0]>=1)\n",
    "                    ax[0].set_xlabel('pred bal_acc=%s (thres-50)'%np.round(accuracy(temp_pred[:,:,0]>=1,batch_y[k,:,:,0]>=1),2))\n",
    "                    ax[1].set_xlabel('pred bal_acc=%s (thres-20)'%np.round(accuracy(temp_pred[:,:,0]>=1.6,batch_y[k,:,:,0]>=1),2))\n",
    "                    ax[2].set_xlabel('pred bal_acc=%s (thres-25)'%np.round(accuracy(temp_pred[:,:,0]>=1.5,batch_y[k,:,:,0]>=1),2))\n",
    "                    ax[-2].set_xlabel('probabilities logloss=%s' %cost_i)\n",
    "                    ax[-1].set_xlabel('actual')\n",
    "                    plt.savefig(   'VAL/'+ data2_name_val[i]+'.png');plt.close()\n",
    "        test_acc = []\n",
    "        for i in range(len(data2_x_test)):\n",
    "                batch_x, batch_y = np.array([[data2_x_test[i],],]),np.array([data2_y_test[i],])\n",
    "                batch_y_nan,batch_y_ss = np.array([data2_y_nan_test[i]]),np.array([data2_y_ss_test[i]])\n",
    "                batch_x = np.swapaxes(np.swapaxes(batch_x,1,3),1,2)\n",
    "                cost_i  = sess.run( cost, feed_dict={x: batch_x,resi_map0: batch_y,\n",
    "                                                     above_zero : batch_y_nan, ss_2d : batch_y_ss,\n",
    "                                                     phase : False, learning_rate : lr, dropout : 0})\n",
    "                test_cost += [cost_i,]\n",
    "                pred =sess.run( out_softmax, feed_dict={x: batch_x,resi_map0: batch_y,\n",
    "                                                     above_zero : batch_y_nan, ss_2d : batch_y_ss,\n",
    "                                                        phase : False, learning_rate : lr, dropout : 0})\n",
    "                test_acc += [accuracy((pred[k]+np.transpose(pred[k],(1,0,2)))//1,batch_y[k]),]\n",
    "                if False:\n",
    "                    temp_pred = pred[k]+np.transpose(pred[k],(1,0,2))\n",
    "                    f, ax = plt.subplots(1,5,figsize=(19,5));k=0\n",
    "                    ax[0].imshow(temp_pred[:,:,0]>=1)\n",
    "                    ax[1].imshow(temp_pred[:,:,0]>=1.6)\n",
    "                    ax[2].imshow(temp_pred[:,:,0]>=1.5)\n",
    "                    ax[-2].imshow(temp_pred[:,:,0] *200//20)\n",
    "                    ax[-1].imshow(batch_y[k,:,:,0]>=1)\n",
    "                    ax[0].set_xlabel('pred bal_acc=%s (thres-50)'%np.round(accuracy(temp_pred[:,:,0]>=1,batch_y[k,:,:,0]>=1),2))\n",
    "                    ax[1].set_xlabel('pred bal_acc=%s (thres-40)'%np.round(accuracy(temp_pred[:,:,0]>=1.2,batch_y[k,:,:,0]>=1),2))\n",
    "                    ax[2].set_xlabel('pred bal_acc=%s (thres-25)'%np.round(accuracy(temp_pred[:,:,0]>=1.5,batch_y[k,:,:,0]>=1),2))\n",
    "                    ax[-2].set_xlabel('probabilities logloss=%s' %cost_i)\n",
    "                    ax[-1].set_xlabel('actual')\n",
    "                    plt.savefig( data2_name_test[i]+'_%s.png'%thres_distance);plt.close()    # Display logs per epoch step\n",
    "    f1 = open('updates.log','w')\n",
    "    text += str(np.mean(avg_cost))+'  '+str(np.mean(train_acc))+'\\n'\n",
    "    text += str(np.mean(val_cost))+'  '+str(np.mean(val_acc))+'\\n'\n",
    "    text += str(np.mean(test_cost))+'  '+str(np.mean(test_acc))+'\\n\\n'\n",
    "    print (\"Epoch:\", '%04d' % (epoch+1), \"cost=\", \n",
    "            \"{:.9f}\".format(np.mean(avg_cost)),np.mean(train_acc))\n",
    "    print (\"Epoch:\", '%04d' % (epoch+1), \"cost=\", \n",
    "            \"{:.9f}\".format(np.mean(val_cost)),np.mean(val_acc))\n",
    "    print (\"Epoch:\", '%04d' % (epoch+1), \"cost=\", \n",
    "            \"{:\n",
    "           .9f}\".format(np.mean(val_cost)),np.mean(test_acc))\n",
    "    f1.write(text)\n",
    "    f1.close()\n",
    "    save_path = saver.save(sess,'./model300_reweigh_loss_%s_%s.ckpt' %(epoch,int(100*np.mean(val_acc))))\n",
    "    result[epoch] = [avg_cost,val_cost]\n",
    "\n",
    "print (\"Optimization Finished!\")\n"
   ]
  },
  {
   "cell_type": "code",
   "execution_count": null,
   "metadata": {
    "collapsed": true
   },
   "outputs": [],
   "source": []
  }
 ],
 "metadata": {
  "anaconda-cloud": {},
  "kernelspec": {
   "display_name": "Python [conda env:tensorflow]",
   "language": "python",
   "name": "conda-env-tensorflow-py"
  },
  "language_info": {
   "codemirror_mode": {
    "name": "ipython",
    "version": 2
   },
   "file_extension": ".py",
   "mimetype": "text/x-python",
   "name": "python",
   "nbconvert_exporter": "python",
   "pygments_lexer": "ipython2",
   "version": "2.7.13"
  }
 },
 "nbformat": 4,
 "nbformat_minor": 1
}
